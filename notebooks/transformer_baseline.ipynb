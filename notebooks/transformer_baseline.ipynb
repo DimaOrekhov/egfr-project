{
  "nbformat": 4,
  "nbformat_minor": 0,
  "metadata": {
    "kernelspec": {
      "display_name": "Python 3",
      "language": "python",
      "name": "python3"
    },
    "language_info": {
      "codemirror_mode": {
        "name": "ipython",
        "version": 3
      },
      "file_extension": ".py",
      "mimetype": "text/x-python",
      "name": "python",
      "nbconvert_exporter": "python",
      "pygments_lexer": "ipython3",
      "version": "3.8.5"
    },
    "colab": {
      "name": "transformer-baseline.ipynb",
      "provenance": [],
      "collapsed_sections": []
    },
    "accelerator": "GPU",
    "widgets": {
      "application/vnd.jupyter.widget-state+json": {
        "b2bc5bc70f4542548dc70bc42f313a7c": {
          "model_module": "@jupyter-widgets/controls",
          "model_name": "VBoxModel",
          "state": {
            "_view_name": "VBoxView",
            "_dom_classes": [],
            "_model_name": "VBoxModel",
            "_view_module": "@jupyter-widgets/controls",
            "_model_module_version": "1.5.0",
            "_view_count": null,
            "_view_module_version": "1.5.0",
            "box_style": "",
            "layout": "IPY_MODEL_d42f5a9157f442dc905bd7641efdec24",
            "_model_module": "@jupyter-widgets/controls",
            "children": [
              "IPY_MODEL_375cb9434b054352bba90a891f7d253e",
              "IPY_MODEL_2d1a199113614a339e4f4636171cb2de"
            ]
          }
        },
        "d42f5a9157f442dc905bd7641efdec24": {
          "model_module": "@jupyter-widgets/base",
          "model_name": "LayoutModel",
          "state": {
            "_view_name": "LayoutView",
            "grid_template_rows": null,
            "right": null,
            "justify_content": null,
            "_view_module": "@jupyter-widgets/base",
            "overflow": null,
            "_model_module_version": "1.2.0",
            "_view_count": null,
            "flex_flow": null,
            "width": null,
            "min_width": null,
            "border": null,
            "align_items": null,
            "bottom": null,
            "_model_module": "@jupyter-widgets/base",
            "top": null,
            "grid_column": null,
            "overflow_y": null,
            "overflow_x": null,
            "grid_auto_flow": null,
            "grid_area": null,
            "grid_template_columns": null,
            "flex": null,
            "_model_name": "LayoutModel",
            "justify_items": null,
            "grid_row": null,
            "max_height": null,
            "align_content": null,
            "visibility": null,
            "align_self": null,
            "height": null,
            "min_height": null,
            "padding": null,
            "grid_auto_rows": null,
            "grid_gap": null,
            "max_width": null,
            "order": null,
            "_view_module_version": "1.2.0",
            "grid_template_areas": null,
            "object_position": null,
            "object_fit": null,
            "grid_auto_columns": null,
            "margin": null,
            "display": null,
            "left": null
          }
        },
        "375cb9434b054352bba90a891f7d253e": {
          "model_module": "@jupyter-widgets/controls",
          "model_name": "LabelModel",
          "state": {
            "_view_name": "LabelView",
            "style": "IPY_MODEL_1456a5741e574d5f962b29b09c5f3c03",
            "_dom_classes": [],
            "description": "",
            "_model_name": "LabelModel",
            "placeholder": "​",
            "_view_module": "@jupyter-widgets/controls",
            "_model_module_version": "1.5.0",
            "value": " 0.79MB of 0.79MB uploaded (0.00MB deduped)\r",
            "_view_count": null,
            "_view_module_version": "1.5.0",
            "description_tooltip": null,
            "_model_module": "@jupyter-widgets/controls",
            "layout": "IPY_MODEL_f0e4b2b4a1594cccb10ecb6eca9b5838"
          }
        },
        "2d1a199113614a339e4f4636171cb2de": {
          "model_module": "@jupyter-widgets/controls",
          "model_name": "FloatProgressModel",
          "state": {
            "_view_name": "ProgressView",
            "style": "IPY_MODEL_4a135cde6d25454a93b25e05e8c02bfd",
            "_dom_classes": [],
            "description": "",
            "_model_name": "FloatProgressModel",
            "bar_style": "",
            "max": 1,
            "_view_module": "@jupyter-widgets/controls",
            "_model_module_version": "1.5.0",
            "value": 1,
            "_view_count": null,
            "_view_module_version": "1.5.0",
            "orientation": "horizontal",
            "min": 0,
            "description_tooltip": null,
            "_model_module": "@jupyter-widgets/controls",
            "layout": "IPY_MODEL_0a851a68408144c591138e2a356d1c5f"
          }
        },
        "1456a5741e574d5f962b29b09c5f3c03": {
          "model_module": "@jupyter-widgets/controls",
          "model_name": "DescriptionStyleModel",
          "state": {
            "_view_name": "StyleView",
            "_model_name": "DescriptionStyleModel",
            "description_width": "",
            "_view_module": "@jupyter-widgets/base",
            "_model_module_version": "1.5.0",
            "_view_count": null,
            "_view_module_version": "1.2.0",
            "_model_module": "@jupyter-widgets/controls"
          }
        },
        "f0e4b2b4a1594cccb10ecb6eca9b5838": {
          "model_module": "@jupyter-widgets/base",
          "model_name": "LayoutModel",
          "state": {
            "_view_name": "LayoutView",
            "grid_template_rows": null,
            "right": null,
            "justify_content": null,
            "_view_module": "@jupyter-widgets/base",
            "overflow": null,
            "_model_module_version": "1.2.0",
            "_view_count": null,
            "flex_flow": null,
            "width": null,
            "min_width": null,
            "border": null,
            "align_items": null,
            "bottom": null,
            "_model_module": "@jupyter-widgets/base",
            "top": null,
            "grid_column": null,
            "overflow_y": null,
            "overflow_x": null,
            "grid_auto_flow": null,
            "grid_area": null,
            "grid_template_columns": null,
            "flex": null,
            "_model_name": "LayoutModel",
            "justify_items": null,
            "grid_row": null,
            "max_height": null,
            "align_content": null,
            "visibility": null,
            "align_self": null,
            "height": null,
            "min_height": null,
            "padding": null,
            "grid_auto_rows": null,
            "grid_gap": null,
            "max_width": null,
            "order": null,
            "_view_module_version": "1.2.0",
            "grid_template_areas": null,
            "object_position": null,
            "object_fit": null,
            "grid_auto_columns": null,
            "margin": null,
            "display": null,
            "left": null
          }
        },
        "4a135cde6d25454a93b25e05e8c02bfd": {
          "model_module": "@jupyter-widgets/controls",
          "model_name": "ProgressStyleModel",
          "state": {
            "_view_name": "StyleView",
            "_model_name": "ProgressStyleModel",
            "description_width": "",
            "_view_module": "@jupyter-widgets/base",
            "_model_module_version": "1.5.0",
            "_view_count": null,
            "_view_module_version": "1.2.0",
            "bar_color": null,
            "_model_module": "@jupyter-widgets/controls"
          }
        },
        "0a851a68408144c591138e2a356d1c5f": {
          "model_module": "@jupyter-widgets/base",
          "model_name": "LayoutModel",
          "state": {
            "_view_name": "LayoutView",
            "grid_template_rows": null,
            "right": null,
            "justify_content": null,
            "_view_module": "@jupyter-widgets/base",
            "overflow": null,
            "_model_module_version": "1.2.0",
            "_view_count": null,
            "flex_flow": null,
            "width": null,
            "min_width": null,
            "border": null,
            "align_items": null,
            "bottom": null,
            "_model_module": "@jupyter-widgets/base",
            "top": null,
            "grid_column": null,
            "overflow_y": null,
            "overflow_x": null,
            "grid_auto_flow": null,
            "grid_area": null,
            "grid_template_columns": null,
            "flex": null,
            "_model_name": "LayoutModel",
            "justify_items": null,
            "grid_row": null,
            "max_height": null,
            "align_content": null,
            "visibility": null,
            "align_self": null,
            "height": null,
            "min_height": null,
            "padding": null,
            "grid_auto_rows": null,
            "grid_gap": null,
            "max_width": null,
            "order": null,
            "_view_module_version": "1.2.0",
            "grid_template_areas": null,
            "object_position": null,
            "object_fit": null,
            "grid_auto_columns": null,
            "margin": null,
            "display": null,
            "left": null
          }
        }
      }
    }
  },
  "cells": [
    {
      "cell_type": "code",
      "metadata": {
        "colab": {
          "base_uri": "https://localhost:8080/"
        },
        "id": "kjxJq6pVrich",
        "outputId": "b54e4750-ff30-4163-c21b-67798929efb3"
      },
      "source": [
        "from google.colab import drive\n",
        "drive.mount('/content/drive')"
      ],
      "execution_count": 1,
      "outputs": [
        {
          "output_type": "stream",
          "text": [
            "Drive already mounted at /content/drive; to attempt to forcibly remount, call drive.mount(\"/content/drive\", force_remount=True).\n"
          ],
          "name": "stdout"
        }
      ]
    },
    {
      "cell_type": "code",
      "metadata": {
        "colab": {
          "base_uri": "https://localhost:8080/"
        },
        "id": "N3QbRUnirsRg",
        "outputId": "5c011c5b-f32c-41fd-9f7b-fd2144a2e8a0"
      },
      "source": [
        "!pip install wandb\n",
        "!pip install transformers==4.0.0\n",
        "!pip install catalyst==20.11"
      ],
      "execution_count": 2,
      "outputs": [
        {
          "output_type": "stream",
          "text": [
            "Requirement already satisfied: wandb in /usr/local/lib/python3.6/dist-packages (0.10.12)\n",
            "Requirement already satisfied: requests<3,>=2.0.0 in /usr/local/lib/python3.6/dist-packages (from wandb) (2.23.0)\n",
            "Requirement already satisfied: promise<3,>=2.0 in /usr/local/lib/python3.6/dist-packages (from wandb) (2.3)\n",
            "Requirement already satisfied: psutil>=5.0.0 in /usr/local/lib/python3.6/dist-packages (from wandb) (5.4.8)\n",
            "Requirement already satisfied: sentry-sdk>=0.4.0 in /usr/local/lib/python3.6/dist-packages (from wandb) (0.19.5)\n",
            "Requirement already satisfied: subprocess32>=3.5.3 in /usr/local/lib/python3.6/dist-packages (from wandb) (3.5.4)\n",
            "Requirement already satisfied: Click>=7.0 in /usr/local/lib/python3.6/dist-packages (from wandb) (7.1.2)\n",
            "Requirement already satisfied: configparser>=3.8.1 in /usr/local/lib/python3.6/dist-packages (from wandb) (5.0.1)\n",
            "Requirement already satisfied: protobuf>=3.12.0 in /usr/local/lib/python3.6/dist-packages (from wandb) (3.12.4)\n",
            "Requirement already satisfied: watchdog>=0.8.3 in /usr/local/lib/python3.6/dist-packages (from wandb) (1.0.1)\n",
            "Requirement already satisfied: PyYAML in /usr/local/lib/python3.6/dist-packages (from wandb) (3.13)\n",
            "Requirement already satisfied: six>=1.13.0 in /usr/local/lib/python3.6/dist-packages (from wandb) (1.15.0)\n",
            "Requirement already satisfied: GitPython>=1.0.0 in /usr/local/lib/python3.6/dist-packages (from wandb) (3.1.11)\n",
            "Requirement already satisfied: docker-pycreds>=0.4.0 in /usr/local/lib/python3.6/dist-packages (from wandb) (0.4.0)\n",
            "Requirement already satisfied: python-dateutil>=2.6.1 in /usr/local/lib/python3.6/dist-packages (from wandb) (2.8.1)\n",
            "Requirement already satisfied: shortuuid>=0.5.0 in /usr/local/lib/python3.6/dist-packages (from wandb) (1.0.1)\n",
            "Requirement already satisfied: urllib3!=1.25.0,!=1.25.1,<1.26,>=1.21.1 in /usr/local/lib/python3.6/dist-packages (from requests<3,>=2.0.0->wandb) (1.24.3)\n",
            "Requirement already satisfied: idna<3,>=2.5 in /usr/local/lib/python3.6/dist-packages (from requests<3,>=2.0.0->wandb) (2.10)\n",
            "Requirement already satisfied: certifi>=2017.4.17 in /usr/local/lib/python3.6/dist-packages (from requests<3,>=2.0.0->wandb) (2020.12.5)\n",
            "Requirement already satisfied: chardet<4,>=3.0.2 in /usr/local/lib/python3.6/dist-packages (from requests<3,>=2.0.0->wandb) (3.0.4)\n",
            "Requirement already satisfied: setuptools in /usr/local/lib/python3.6/dist-packages (from protobuf>=3.12.0->wandb) (50.3.2)\n",
            "Requirement already satisfied: gitdb<5,>=4.0.1 in /usr/local/lib/python3.6/dist-packages (from GitPython>=1.0.0->wandb) (4.0.5)\n",
            "Requirement already satisfied: smmap<4,>=3.0.1 in /usr/local/lib/python3.6/dist-packages (from gitdb<5,>=4.0.1->GitPython>=1.0.0->wandb) (3.0.4)\n",
            "Requirement already satisfied: transformers==4.0.0 in /usr/local/lib/python3.6/dist-packages (4.0.0)\n",
            "Requirement already satisfied: regex!=2019.12.17 in /usr/local/lib/python3.6/dist-packages (from transformers==4.0.0) (2019.12.20)\n",
            "Requirement already satisfied: numpy in /usr/local/lib/python3.6/dist-packages (from transformers==4.0.0) (1.18.5)\n",
            "Requirement already satisfied: tqdm>=4.27 in /usr/local/lib/python3.6/dist-packages (from transformers==4.0.0) (4.41.1)\n",
            "Requirement already satisfied: filelock in /usr/local/lib/python3.6/dist-packages (from transformers==4.0.0) (3.0.12)\n",
            "Requirement already satisfied: sacremoses in /usr/local/lib/python3.6/dist-packages (from transformers==4.0.0) (0.0.43)\n",
            "Requirement already satisfied: dataclasses; python_version < \"3.7\" in /usr/local/lib/python3.6/dist-packages (from transformers==4.0.0) (0.8)\n",
            "Requirement already satisfied: packaging in /usr/local/lib/python3.6/dist-packages (from transformers==4.0.0) (20.7)\n",
            "Requirement already satisfied: requests in /usr/local/lib/python3.6/dist-packages (from transformers==4.0.0) (2.23.0)\n",
            "Requirement already satisfied: tokenizers==0.9.4 in /usr/local/lib/python3.6/dist-packages (from transformers==4.0.0) (0.9.4)\n",
            "Requirement already satisfied: six in /usr/local/lib/python3.6/dist-packages (from sacremoses->transformers==4.0.0) (1.15.0)\n",
            "Requirement already satisfied: joblib in /usr/local/lib/python3.6/dist-packages (from sacremoses->transformers==4.0.0) (0.17.0)\n",
            "Requirement already satisfied: click in /usr/local/lib/python3.6/dist-packages (from sacremoses->transformers==4.0.0) (7.1.2)\n",
            "Requirement already satisfied: pyparsing>=2.0.2 in /usr/local/lib/python3.6/dist-packages (from packaging->transformers==4.0.0) (2.4.7)\n",
            "Requirement already satisfied: idna<3,>=2.5 in /usr/local/lib/python3.6/dist-packages (from requests->transformers==4.0.0) (2.10)\n",
            "Requirement already satisfied: urllib3!=1.25.0,!=1.25.1,<1.26,>=1.21.1 in /usr/local/lib/python3.6/dist-packages (from requests->transformers==4.0.0) (1.24.3)\n",
            "Requirement already satisfied: certifi>=2017.4.17 in /usr/local/lib/python3.6/dist-packages (from requests->transformers==4.0.0) (2020.12.5)\n",
            "Requirement already satisfied: chardet<4,>=3.0.2 in /usr/local/lib/python3.6/dist-packages (from requests->transformers==4.0.0) (3.0.4)\n",
            "Requirement already satisfied: catalyst==20.11 in /usr/local/lib/python3.6/dist-packages (20.11)\n",
            "Requirement already satisfied: numpy>=1.16.4 in /usr/local/lib/python3.6/dist-packages (from catalyst==20.11) (1.18.5)\n",
            "Requirement already satisfied: GitPython>=3.1.1 in /usr/local/lib/python3.6/dist-packages (from catalyst==20.11) (3.1.11)\n",
            "Requirement already satisfied: plotly>=4.1.0 in /usr/local/lib/python3.6/dist-packages (from catalyst==20.11) (4.4.1)\n",
            "Requirement already satisfied: tensorboard>=1.14.0 in /usr/local/lib/python3.6/dist-packages (from catalyst==20.11) (2.3.0)\n",
            "Requirement already satisfied: tensorboardX in /usr/local/lib/python3.6/dist-packages (from catalyst==20.11) (2.1)\n",
            "Requirement already satisfied: matplotlib in /usr/local/lib/python3.6/dist-packages (from catalyst==20.11) (3.2.2)\n",
            "Requirement already satisfied: tqdm>=4.33.0 in /usr/local/lib/python3.6/dist-packages (from catalyst==20.11) (4.41.1)\n",
            "Requirement already satisfied: ipython in /usr/local/lib/python3.6/dist-packages (from catalyst==20.11) (5.5.0)\n",
            "Requirement already satisfied: pandas>=0.22 in /usr/local/lib/python3.6/dist-packages (from catalyst==20.11) (1.1.5)\n",
            "Requirement already satisfied: scikit-learn>=0.20 in /usr/local/lib/python3.6/dist-packages (from catalyst==20.11) (0.22.2.post1)\n",
            "Requirement already satisfied: deprecation in /usr/local/lib/python3.6/dist-packages (from catalyst==20.11) (2.1.0)\n",
            "Requirement already satisfied: torch>=1.1.0 in /usr/local/lib/python3.6/dist-packages (from catalyst==20.11) (1.7.0+cu101)\n",
            "Requirement already satisfied: packaging in /usr/local/lib/python3.6/dist-packages (from catalyst==20.11) (20.7)\n",
            "Requirement already satisfied: PyYAML in /usr/local/lib/python3.6/dist-packages (from catalyst==20.11) (3.13)\n",
            "Requirement already satisfied: gitdb<5,>=4.0.1 in /usr/local/lib/python3.6/dist-packages (from GitPython>=3.1.1->catalyst==20.11) (4.0.5)\n",
            "Requirement already satisfied: six in /usr/local/lib/python3.6/dist-packages (from plotly>=4.1.0->catalyst==20.11) (1.15.0)\n",
            "Requirement already satisfied: retrying>=1.3.3 in /usr/local/lib/python3.6/dist-packages (from plotly>=4.1.0->catalyst==20.11) (1.3.3)\n",
            "Requirement already satisfied: wheel>=0.26; python_version >= \"3\" in /usr/local/lib/python3.6/dist-packages (from tensorboard>=1.14.0->catalyst==20.11) (0.36.1)\n",
            "Requirement already satisfied: markdown>=2.6.8 in /usr/local/lib/python3.6/dist-packages (from tensorboard>=1.14.0->catalyst==20.11) (3.3.3)\n",
            "Requirement already satisfied: requests<3,>=2.21.0 in /usr/local/lib/python3.6/dist-packages (from tensorboard>=1.14.0->catalyst==20.11) (2.23.0)\n",
            "Requirement already satisfied: absl-py>=0.4 in /usr/local/lib/python3.6/dist-packages (from tensorboard>=1.14.0->catalyst==20.11) (0.10.0)\n",
            "Requirement already satisfied: tensorboard-plugin-wit>=1.6.0 in /usr/local/lib/python3.6/dist-packages (from tensorboard>=1.14.0->catalyst==20.11) (1.7.0)\n",
            "Requirement already satisfied: google-auth-oauthlib<0.5,>=0.4.1 in /usr/local/lib/python3.6/dist-packages (from tensorboard>=1.14.0->catalyst==20.11) (0.4.2)\n",
            "Requirement already satisfied: werkzeug>=0.11.15 in /usr/local/lib/python3.6/dist-packages (from tensorboard>=1.14.0->catalyst==20.11) (1.0.1)\n",
            "Requirement already satisfied: setuptools>=41.0.0 in /usr/local/lib/python3.6/dist-packages (from tensorboard>=1.14.0->catalyst==20.11) (50.3.2)\n",
            "Requirement already satisfied: google-auth<2,>=1.6.3 in /usr/local/lib/python3.6/dist-packages (from tensorboard>=1.14.0->catalyst==20.11) (1.17.2)\n",
            "Requirement already satisfied: protobuf>=3.6.0 in /usr/local/lib/python3.6/dist-packages (from tensorboard>=1.14.0->catalyst==20.11) (3.12.4)\n",
            "Requirement already satisfied: grpcio>=1.24.3 in /usr/local/lib/python3.6/dist-packages (from tensorboard>=1.14.0->catalyst==20.11) (1.34.0)\n",
            "Requirement already satisfied: cycler>=0.10 in /usr/local/lib/python3.6/dist-packages (from matplotlib->catalyst==20.11) (0.10.0)\n",
            "Requirement already satisfied: python-dateutil>=2.1 in /usr/local/lib/python3.6/dist-packages (from matplotlib->catalyst==20.11) (2.8.1)\n",
            "Requirement already satisfied: kiwisolver>=1.0.1 in /usr/local/lib/python3.6/dist-packages (from matplotlib->catalyst==20.11) (1.3.1)\n",
            "Requirement already satisfied: pyparsing!=2.0.4,!=2.1.2,!=2.1.6,>=2.0.1 in /usr/local/lib/python3.6/dist-packages (from matplotlib->catalyst==20.11) (2.4.7)\n",
            "Requirement already satisfied: decorator in /usr/local/lib/python3.6/dist-packages (from ipython->catalyst==20.11) (4.4.2)\n",
            "Requirement already satisfied: prompt-toolkit<2.0.0,>=1.0.4 in /usr/local/lib/python3.6/dist-packages (from ipython->catalyst==20.11) (1.0.18)\n",
            "Requirement already satisfied: simplegeneric>0.8 in /usr/local/lib/python3.6/dist-packages (from ipython->catalyst==20.11) (0.8.1)\n",
            "Requirement already satisfied: pexpect; sys_platform != \"win32\" in /usr/local/lib/python3.6/dist-packages (from ipython->catalyst==20.11) (4.8.0)\n",
            "Requirement already satisfied: traitlets>=4.2 in /usr/local/lib/python3.6/dist-packages (from ipython->catalyst==20.11) (4.3.3)\n",
            "Requirement already satisfied: pickleshare in /usr/local/lib/python3.6/dist-packages (from ipython->catalyst==20.11) (0.7.5)\n",
            "Requirement already satisfied: pygments in /usr/local/lib/python3.6/dist-packages (from ipython->catalyst==20.11) (2.6.1)\n",
            "Requirement already satisfied: pytz>=2017.2 in /usr/local/lib/python3.6/dist-packages (from pandas>=0.22->catalyst==20.11) (2018.9)\n",
            "Requirement already satisfied: joblib>=0.11 in /usr/local/lib/python3.6/dist-packages (from scikit-learn>=0.20->catalyst==20.11) (0.17.0)\n",
            "Requirement already satisfied: scipy>=0.17.0 in /usr/local/lib/python3.6/dist-packages (from scikit-learn>=0.20->catalyst==20.11) (1.4.1)\n",
            "Requirement already satisfied: typing-extensions in /usr/local/lib/python3.6/dist-packages (from torch>=1.1.0->catalyst==20.11) (3.7.4.3)\n",
            "Requirement already satisfied: future in /usr/local/lib/python3.6/dist-packages (from torch>=1.1.0->catalyst==20.11) (0.16.0)\n",
            "Requirement already satisfied: dataclasses in /usr/local/lib/python3.6/dist-packages (from torch>=1.1.0->catalyst==20.11) (0.8)\n",
            "Requirement already satisfied: smmap<4,>=3.0.1 in /usr/local/lib/python3.6/dist-packages (from gitdb<5,>=4.0.1->GitPython>=3.1.1->catalyst==20.11) (3.0.4)\n",
            "Requirement already satisfied: importlib-metadata; python_version < \"3.8\" in /usr/local/lib/python3.6/dist-packages (from markdown>=2.6.8->tensorboard>=1.14.0->catalyst==20.11) (3.1.1)\n",
            "Requirement already satisfied: urllib3!=1.25.0,!=1.25.1,<1.26,>=1.21.1 in /usr/local/lib/python3.6/dist-packages (from requests<3,>=2.21.0->tensorboard>=1.14.0->catalyst==20.11) (1.24.3)\n",
            "Requirement already satisfied: chardet<4,>=3.0.2 in /usr/local/lib/python3.6/dist-packages (from requests<3,>=2.21.0->tensorboard>=1.14.0->catalyst==20.11) (3.0.4)\n",
            "Requirement already satisfied: certifi>=2017.4.17 in /usr/local/lib/python3.6/dist-packages (from requests<3,>=2.21.0->tensorboard>=1.14.0->catalyst==20.11) (2020.12.5)\n",
            "Requirement already satisfied: idna<3,>=2.5 in /usr/local/lib/python3.6/dist-packages (from requests<3,>=2.21.0->tensorboard>=1.14.0->catalyst==20.11) (2.10)\n",
            "Requirement already satisfied: requests-oauthlib>=0.7.0 in /usr/local/lib/python3.6/dist-packages (from google-auth-oauthlib<0.5,>=0.4.1->tensorboard>=1.14.0->catalyst==20.11) (1.3.0)\n",
            "Requirement already satisfied: rsa<5,>=3.1.4; python_version >= \"3\" in /usr/local/lib/python3.6/dist-packages (from google-auth<2,>=1.6.3->tensorboard>=1.14.0->catalyst==20.11) (4.6)\n",
            "Requirement already satisfied: pyasn1-modules>=0.2.1 in /usr/local/lib/python3.6/dist-packages (from google-auth<2,>=1.6.3->tensorboard>=1.14.0->catalyst==20.11) (0.2.8)\n",
            "Requirement already satisfied: cachetools<5.0,>=2.0.0 in /usr/local/lib/python3.6/dist-packages (from google-auth<2,>=1.6.3->tensorboard>=1.14.0->catalyst==20.11) (4.1.1)\n",
            "Requirement already satisfied: wcwidth in /usr/local/lib/python3.6/dist-packages (from prompt-toolkit<2.0.0,>=1.0.4->ipython->catalyst==20.11) (0.2.5)\n",
            "Requirement already satisfied: ptyprocess>=0.5 in /usr/local/lib/python3.6/dist-packages (from pexpect; sys_platform != \"win32\"->ipython->catalyst==20.11) (0.6.0)\n",
            "Requirement already satisfied: ipython-genutils in /usr/local/lib/python3.6/dist-packages (from traitlets>=4.2->ipython->catalyst==20.11) (0.2.0)\n",
            "Requirement already satisfied: zipp>=0.5 in /usr/local/lib/python3.6/dist-packages (from importlib-metadata; python_version < \"3.8\"->markdown>=2.6.8->tensorboard>=1.14.0->catalyst==20.11) (3.4.0)\n",
            "Requirement already satisfied: oauthlib>=3.0.0 in /usr/local/lib/python3.6/dist-packages (from requests-oauthlib>=0.7.0->google-auth-oauthlib<0.5,>=0.4.1->tensorboard>=1.14.0->catalyst==20.11) (3.1.0)\n",
            "Requirement already satisfied: pyasn1>=0.1.3 in /usr/local/lib/python3.6/dist-packages (from rsa<5,>=3.1.4; python_version >= \"3\"->google-auth<2,>=1.6.3->tensorboard>=1.14.0->catalyst==20.11) (0.4.8)\n"
          ],
          "name": "stdout"
        }
      ]
    },
    {
      "cell_type": "code",
      "metadata": {
        "colab": {
          "base_uri": "https://localhost:8080/"
        },
        "id": "qXRj82KQtEkZ",
        "outputId": "c6350dca-6754-444e-cb7e-10d5d63918d1"
      },
      "source": [
        "!wandb login"
      ],
      "execution_count": 3,
      "outputs": [
        {
          "output_type": "stream",
          "text": [
            "\u001b[34m\u001b[1mwandb\u001b[0m: Currently logged in as: \u001b[33mdimaorekhov\u001b[0m (use `wandb login --relogin` to force relogin)\n"
          ],
          "name": "stdout"
        }
      ]
    },
    {
      "cell_type": "code",
      "metadata": {
        "colab": {
          "base_uri": "https://localhost:8080/"
        },
        "id": "zy-3KpEevDa9",
        "outputId": "cf3810be-907f-44e5-e0b2-4560b687d683"
      },
      "source": [
        "!git clone https://github.com/lehgtrung/egfr-att"
      ],
      "execution_count": 4,
      "outputs": [
        {
          "output_type": "stream",
          "text": [
            "fatal: destination path 'egfr-att' already exists and is not an empty directory.\n"
          ],
          "name": "stdout"
        }
      ]
    },
    {
      "cell_type": "code",
      "metadata": {
        "id": "Ytw9q7mNrf2Q"
      },
      "source": [
        "from pathlib import Path\n",
        "import json\n",
        "from transformers import AutoTokenizer, BertForSequenceClassification, BertConfig\n",
        "import pandas as pd\n",
        "from dataclasses import dataclass\n",
        "import torch\n",
        "from torch.utils.data import DataLoader\n",
        "from torch.nn.utils.rnn import pad_sequence\n",
        "from sklearn.model_selection import train_test_split\n",
        "from catalyst import dl\n",
        "from catalyst.utils import set_global_seed\n",
        "\n",
        "\n",
        "ORIGINAL_PAPER_PATH = Path(\"egfr-att\")\n",
        "import sys\n",
        "sys.path.append(ORIGINAL_PAPER_PATH.as_posix())\n",
        "\n",
        "\n",
        "from egfr.dataset import EGFRDataset\n",
        "\n",
        "\n",
        "DEVICE = torch.device('cuda')\n",
        "\n",
        "\n",
        "SEED = 21\n",
        "set_global_seed(SEED)\n",
        "\n",
        "\n",
        "DATA_PATH = ORIGINAL_PAPER_PATH / \"egfr/data/egfr_10_full_ft_pd_lines.json\""
      ],
      "execution_count": 5,
      "outputs": []
    },
    {
      "cell_type": "code",
      "metadata": {
        "id": "QffNi5Rorf2S"
      },
      "source": [
        "EXPERIMENT_NAME = 'transformer-no-descriptor'\n",
        "\n",
        "\n",
        "@dataclass\n",
        "class Config:\n",
        "\n",
        "    tokenizer_path: str = \"seyonec/PubChem10M_SMILES_BPE_450k\"\n",
        "\n",
        "    hidden_size: int = 512\n",
        "    num_hidden_layers: int = 2\n",
        "    num_attention_heads: int = 8\n",
        "    intermediate_size: int = 2048\n",
        "    hidden_dropout_prob: float = 0.1\n",
        "    attention_probs_dropout_prob: float = 0.1\n",
        "\n",
        "    batch_size: int = 16\n",
        "    accumulation_steps: int = 8\n",
        "  \n",
        "    num_epochs: int = 100\n",
        "    patience: int = 10\n",
        "\n",
        "    scheduler: str = 'OneCycleLR'\n",
        "    max_lr: float = 0.0005\n",
        "    warmup_prop: float = 0.2\n",
        "\n",
        "    logdir: str = f'drive/MyDrive/logdir_{EXPERIMENT_NAME}'\n",
        "\n",
        "\n",
        "config = Config()"
      ],
      "execution_count": 6,
      "outputs": []
    },
    {
      "cell_type": "code",
      "metadata": {
        "colab": {
          "base_uri": "https://localhost:8080/"
        },
        "id": "cI5FoiV3rf2S",
        "outputId": "2a646037-8bce-4185-a53e-5ee932b053bb"
      },
      "source": [
        "tokenizer = AutoTokenizer.from_pretrained(config.tokenizer_path)\n",
        "\n",
        "\n",
        "def get_tokenizer_info(tokenizer):\n",
        "    for key, value in tokenizer.special_tokens_map.items():\n",
        "        print(f\"{key}:\", value, getattr(tokenizer, f\"{key}_id\"))\n",
        "\n",
        "get_tokenizer_info(tokenizer)\n",
        "\n",
        "\n",
        "PAD_TOKEN_ID = tokenizer.pad_token_id"
      ],
      "execution_count": 7,
      "outputs": [
        {
          "output_type": "stream",
          "text": [
            "bos_token: <s> 0\n",
            "eos_token: </s> 2\n",
            "unk_token: <unk> 3\n",
            "sep_token: </s> 2\n",
            "pad_token: <pad> 1\n",
            "cls_token: <s> 0\n",
            "mask_token: <mask> 4\n"
          ],
          "name": "stdout"
        }
      ]
    },
    {
      "cell_type": "code",
      "metadata": {
        "id": "1QZvjAcL2b5B"
      },
      "source": [
        "model_config = BertConfig(\n",
        "    vocab_size=tokenizer.vocab_size,\n",
        "    hidden_size=config.hidden_size,\n",
        "    num_hidden_layers=config.num_hidden_layers,\n",
        "    num_attention_heads=config.num_attention_heads,\n",
        "    intermediate_size=config.intermediate_size,\n",
        "    hidden_dropout_prob=config.hidden_dropout_prob,\n",
        "    attention_probs_dropout_prob=config.attention_probs_dropout_prob,\n",
        "    pad_token_id=PAD_TOKEN_ID\n",
        ")\n",
        "model = BertForSequenceClassification(config=model_config)"
      ],
      "execution_count": 8,
      "outputs": []
    },
    {
      "cell_type": "code",
      "metadata": {
        "id": "ISaOSCfKrf2T"
      },
      "source": [
        "class SequenceEGFRDataset(EGFRDataset):\n",
        "\n",
        "    def __init__(self, data, tokenizer):\n",
        "        super().__init__(data, infer=True)\n",
        "        self.tokenizer = tokenizer\n",
        "        self.pad_token_id = tokenizer.pad_token_id\n",
        "        self.encode_smiles()\n",
        "\n",
        "        self.mord_ft = torch.FloatTensor(self.mord_ft)\n",
        "        self.non_mord_ft = torch.FloatTensor(self.non_mord_ft)\n",
        "        self.label = torch.LongTensor(self.label)\n",
        "\n",
        "    def encode_smiles(self):\n",
        "        self.smiles = [\n",
        "            torch.LongTensor(self.tokenizer.encode(s))\n",
        "            for s in self.smiles\n",
        "        ]\n",
        "\n",
        "    def collate_fn(self, batch):\n",
        "        smiles, mord_ft, non_mord_ft, labels = zip(*batch)\n",
        "        smiles = pad_sequence(\n",
        "            smiles, batch_first=True, padding_value=self.pad_token_id\n",
        "        )\n",
        "        mord_ft = torch.stack(mord_ft)\n",
        "        non_mord_ft = torch.stack(non_mord_ft)\n",
        "        labels = torch.stack(labels)\n",
        "        return smiles, mord_ft, non_mord_ft, labels\n",
        "\n",
        "    def make_loader(self, *args, **kwargs):\n",
        "        return DataLoader(self, *args, collate_fn=self.collate_fn, **kwargs)\n"
      ],
      "execution_count": 10,
      "outputs": []
    },
    {
      "cell_type": "code",
      "metadata": {
        "id": "BjJpoUBTrf2U"
      },
      "source": [
        "train, valid = train_test_split(\n",
        "    pd.read_json(DATA_PATH, lines=True), test_size=0.2, random_state=42 #  42 hard code is from original paper code \n",
        ")\n",
        "\n",
        "\n",
        "train_dataset = SequenceEGFRDataset(train, tokenizer)\n",
        "valid_dataset = SequenceEGFRDataset(valid, tokenizer)"
      ],
      "execution_count": 11,
      "outputs": []
    },
    {
      "cell_type": "code",
      "metadata": {
        "colab": {
          "base_uri": "https://localhost:8080/"
        },
        "id": "mYl2iWlKrf2U",
        "outputId": "7d9430eb-24b6-4706-bcbe-ab03855d9fcd"
      },
      "source": [
        "print('Max train smiles length:', max(len(s) for s in train_dataset.smiles))\n",
        "print('Max valid smiles length:', max(len(s) for s in valid_dataset.smiles))"
      ],
      "execution_count": 12,
      "outputs": [
        {
          "output_type": "stream",
          "text": [
            "Max train smiles length: 100\n",
            "Max valid smiles length: 93\n"
          ],
          "name": "stdout"
        }
      ]
    },
    {
      "cell_type": "code",
      "metadata": {
        "id": "IP5odF2orf2U"
      },
      "source": [
        "loaders = {\n",
        "    'train': train_dataset.make_loader(batch_size=config.batch_size, shuffle=True),\n",
        "    'valid': valid_dataset.make_loader(batch_size=config.batch_size)\n",
        "}"
      ],
      "execution_count": 13,
      "outputs": []
    },
    {
      "cell_type": "code",
      "metadata": {
        "id": "6zc_z-m4rf2V"
      },
      "source": [
        "def init_scheduler(\n",
        "    optimizer: torch.optim.Optimizer,\n",
        "    num_steps_per_epoch: int,\n",
        "    config: Config\n",
        "):\n",
        "\n",
        "    if config.scheduler == 'OneCycleLR':\n",
        "        scheduler = torch.optim.lr_scheduler.OneCycleLR(\n",
        "            optimizer,\n",
        "            max_lr=config.max_lr,\n",
        "            epochs=config.num_epochs,\n",
        "            steps_per_epoch=num_steps_per_epoch,\n",
        "            pct_start=config.warmup_prop\n",
        "        )\n",
        "        return scheduler, 'batch'\n",
        "\n",
        "    return None, None\n"
      ],
      "execution_count": 14,
      "outputs": []
    },
    {
      "cell_type": "code",
      "metadata": {
        "id": "v2WliPf5rf2V"
      },
      "source": [
        "optimizer = torch.optim.Adam(model.parameters())\n",
        "\n",
        "callbacks = [\n",
        "    dl.OptimizerCallback(accumulation_steps=config.accumulation_steps),\n",
        "    dl.EarlyStoppingCallback(patience=config.patience),\n",
        "    dl.WandbLogger(\n",
        "        project='egfr-project',\n",
        "        entity='dimaorekhov',\n",
        "        group='transformer-no-descriptor',\n",
        "        name=EXPERIMENT_NAME,\n",
        "        config=config.__dict__\n",
        "    ),\n",
        "    dl.AUCCallback()\n",
        "]\n",
        "\n",
        "scheduler, mode = init_scheduler(optimizer, len(loaders['train']), config)\n",
        "if scheduler is not None:\n",
        "    callbacks.append(dl.SchedulerCallback(mode=mode))"
      ],
      "execution_count": 15,
      "outputs": []
    },
    {
      "cell_type": "code",
      "metadata": {
        "id": "I0jiMB3Orf2V"
      },
      "source": [
        "class EgfrNoDescriptorRunner(dl.Runner):\n",
        "\n",
        "    def _handle_batch(self, batch):\n",
        "        smiles, _, _, labels = batch\n",
        "        out = self.model(input_ids=smiles, labels=labels)\n",
        "        self.batch_metrics['loss'] = out.loss\n",
        "        self.input = {'targets': labels}\n",
        "        self.output = {'logits': out.logits}\n"
      ],
      "execution_count": 16,
      "outputs": []
    },
    {
      "cell_type": "code",
      "metadata": {
        "id": "UXP1Kqowrf2V"
      },
      "source": [
        "# be careful not to override log dir\n",
        "Path(config.logdir).mkdir(exist_ok=True)"
      ],
      "execution_count": 17,
      "outputs": []
    },
    {
      "cell_type": "code",
      "metadata": {
        "colab": {
          "base_uri": "https://localhost:8080/",
          "height": 1000,
          "referenced_widgets": [
            "b2bc5bc70f4542548dc70bc42f313a7c",
            "d42f5a9157f442dc905bd7641efdec24",
            "375cb9434b054352bba90a891f7d253e",
            "2d1a199113614a339e4f4636171cb2de",
            "1456a5741e574d5f962b29b09c5f3c03",
            "f0e4b2b4a1594cccb10ecb6eca9b5838",
            "4a135cde6d25454a93b25e05e8c02bfd",
            "0a851a68408144c591138e2a356d1c5f"
          ]
        },
        "id": "Q85o-Y3urf2W",
        "outputId": "40e2bd5b-3c1d-47f8-8956-4a0279a50b78"
      },
      "source": [
        "runner = EgfrNoDescriptorRunner(device=DEVICE)\n",
        "runner.train(\n",
        "    model=model,\n",
        "    loaders=loaders,\n",
        "    optimizer=optimizer,\n",
        "    scheduler=scheduler,        \n",
        "    num_epochs=config.num_epochs,\n",
        "    verbose=True,\n",
        "    logdir=config.logdir,\n",
        "    callbacks=callbacks\n",
        ")"
      ],
      "execution_count": 18,
      "outputs": [
        {
          "output_type": "stream",
          "text": [
            "\u001b[34m\u001b[1mwandb\u001b[0m: Currently logged in as: \u001b[33mdimaorekhov\u001b[0m (use `wandb login --relogin` to force relogin)\n"
          ],
          "name": "stderr"
        },
        {
          "output_type": "display_data",
          "data": {
            "text/html": [
              "\n",
              "                Tracking run with wandb version 0.10.12<br/>\n",
              "                Syncing run <strong style=\"color:#cdcd00\">transformer-no-descriptor</strong> to <a href=\"https://wandb.ai\" target=\"_blank\">Weights & Biases</a> <a href=\"https://docs.wandb.com/integrations/jupyter.html\" target=\"_blank\">(Documentation)</a>.<br/>\n",
              "                Project page: <a href=\"https://wandb.ai/dimaorekhov/egfr-project\" target=\"_blank\">https://wandb.ai/dimaorekhov/egfr-project</a><br/>\n",
              "                Run page: <a href=\"https://wandb.ai/dimaorekhov/egfr-project/runs/22t2cp75\" target=\"_blank\">https://wandb.ai/dimaorekhov/egfr-project/runs/22t2cp75</a><br/>\n",
              "                Run data is saved locally in <code>drive/MyDrive/logdir_transformer-no-descriptor/wandb/run-20201211_221927-22t2cp75</code><br/><br/>\n",
              "            "
            ],
            "text/plain": [
              "<IPython.core.display.HTML object>"
            ]
          },
          "metadata": {
            "tags": []
          }
        },
        {
          "output_type": "stream",
          "text": [
            "1/100 * Epoch (train):   3% 6/175 [00:00<00:20,  8.20it/s, loss=0.721, lr=2.000e-05, momentum=0.950]"
          ],
          "name": "stdout"
        },
        {
          "output_type": "stream",
          "text": [
            "/usr/local/lib/python3.6/dist-packages/torch/optim/lr_scheduler.py:136: UserWarning:\n",
            "\n",
            "Detected call of `lr_scheduler.step()` before `optimizer.step()`. In PyTorch 1.1.0 and later, you should call them in the opposite order: `optimizer.step()` before `lr_scheduler.step()`.  Failure to do this will result in PyTorch skipping the first value of the learning rate schedule. See more details at https://pytorch.org/docs/stable/optim.html#how-to-adjust-learning-rate\n",
            "\n",
            "/usr/local/lib/python3.6/dist-packages/torch/optim/lr_scheduler.py:1241: UserWarning:\n",
            "\n",
            "To get the last learning rate computed by the scheduler, please use `get_last_lr()`.\n",
            "\n"
          ],
          "name": "stderr"
        },
        {
          "output_type": "stream",
          "text": [
            "1/100 * Epoch (train): 100% 175/175 [00:03<00:00, 48.81it/s, loss=0.363, lr=2.296e-05, momentum=0.949]\n",
            "1/100 * Epoch (valid): 100% 44/44 [00:00<00:00, 107.24it/s, loss=0.312]\n",
            "[2020-12-11 22:19:32,313] \n",
            "1/100 * Epoch 1 (_base): lr=2.296e-05 | momentum=0.9494\n",
            "1/100 * Epoch 1 (train): auc/class_00=0.5180 | auc/class_01=0.5148 | auc/mean=0.5164 | loss=0.4682 | lr=2.099e-05 | momentum=0.9498\n",
            "1/100 * Epoch 1 (valid): auc/class_00=0.4656 | auc/class_01=0.4321 | auc/mean=0.4489 | loss=0.4495\n",
            "2/100 * Epoch (train): 100% 175/175 [00:03<00:00, 50.56it/s, loss=0.382, lr=3.175e-05, momentum=0.948]\n",
            "2/100 * Epoch (valid): 100% 44/44 [00:00<00:00, 117.76it/s, loss=0.337]\n",
            "[2020-12-11 22:19:38,532] \n",
            "2/100 * Epoch 2 (_base): lr=3.175e-05 | momentum=0.9476\n",
            "2/100 * Epoch 2 (train): auc/class_00=0.5099 | auc/class_01=0.5218 | auc/mean=0.5158 | loss=0.4261 | lr=2.689e-05 | momentum=0.9486\n",
            "2/100 * Epoch 2 (valid): auc/class_00=0.5918 | auc/class_01=0.5941 | auc/mean=0.5929 | loss=0.4113\n",
            "3/100 * Epoch (train): 100% 175/175 [00:03<00:00, 49.19it/s, loss=0.340, lr=4.617e-05, momentum=0.945]\n",
            "3/100 * Epoch (valid): 100% 44/44 [00:00<00:00, 77.19it/s, loss=0.307]\n",
            "[2020-12-11 22:19:45,261] \n",
            "3/100 * Epoch 3 (_base): lr=4.617e-05 | momentum=0.9445\n",
            "3/100 * Epoch 3 (train): auc/class_00=0.5182 | auc/class_01=0.4952 | auc/mean=0.5067 | loss=0.4198 | lr=3.853e-05 | momentum=0.9461\n",
            "3/100 * Epoch 3 (valid): auc/class_00=0.7040 | auc/class_01=0.6170 | auc/mean=0.6605 | loss=0.4073\n",
            "4/100 * Epoch (train): 100% 175/175 [00:03<00:00, 48.53it/s, loss=0.349, lr=6.586e-05, momentum=0.940]\n",
            "4/100 * Epoch (valid): 100% 44/44 [00:00<00:00, 90.86it/s, loss=0.311]\n",
            "[2020-12-11 22:19:52,894] \n",
            "4/100 * Epoch 4 (_base): lr=6.586e-05 | momentum=0.9404\n",
            "4/100 * Epoch 4 (train): auc/class_00=0.5073 | auc/class_01=0.5077 | auc/mean=0.5075 | loss=0.4169 | lr=5.563e-05 | momentum=0.9426\n",
            "4/100 * Epoch 4 (valid): auc/class_00=0.6709 | auc/class_01=0.6249 | auc/mean=0.6479 | loss=0.4038\n",
            "5/100 * Epoch (train): 100% 175/175 [00:03<00:00, 48.82it/s, loss=0.372, lr=9.033e-05, momentum=0.935]\n",
            "5/100 * Epoch (valid): 100% 44/44 [00:00<00:00, 96.37it/s, loss=0.304]\n",
            "[2020-12-11 22:19:59,552] \n",
            "5/100 * Epoch 5 (_base): lr=9.033e-05 | momentum=0.9353\n",
            "5/100 * Epoch 5 (train): auc/class_00=0.5213 | auc/class_01=0.5160 | auc/mean=0.5186 | loss=0.4160 | lr=7.776e-05 | momentum=0.9380\n",
            "5/100 * Epoch 5 (valid): auc/class_00=0.6739 | auc/class_01=0.6508 | auc/mean=0.6623 | loss=0.4023\n",
            "6/100 * Epoch (train): 100% 175/175 [00:03<00:00, 46.54it/s, loss=0.469, lr=1.190e-04, momentum=0.929]\n",
            "6/100 * Epoch (valid): 100% 44/44 [00:00<00:00, 118.51it/s, loss=0.277]\n",
            "[2020-12-11 22:20:09,043] \n",
            "6/100 * Epoch 6 (_base): lr=0.0001 | momentum=0.9294\n",
            "6/100 * Epoch 6 (train): auc/class_00=0.6195 | auc/class_01=0.5994 | auc/mean=0.6095 | loss=0.4064 | lr=0.0001 | momentum=0.9324\n",
            "6/100 * Epoch 6 (valid): auc/class_00=0.7776 | auc/class_01=0.7692 | auc/mean=0.7734 | loss=0.3678\n",
            "7/100 * Epoch (train): 100% 175/175 [00:08<00:00, 20.04it/s, loss=0.218, lr=1.511e-04, momentum=0.923]\n",
            "7/100 * Epoch (valid): 100% 44/44 [00:00<00:00, 117.00it/s, loss=0.174]\n",
            "[2020-12-11 22:20:21,019] \n",
            "7/100 * Epoch 7 (_base): lr=0.0002 | momentum=0.9227\n",
            "7/100 * Epoch 7 (train): auc/class_00=0.7828 | auc/class_01=0.7759 | auc/mean=0.7794 | loss=0.3519 | lr=0.0001 | momentum=0.9261\n",
            "7/100 * Epoch 7 (valid): auc/class_00=0.8641 | auc/class_01=0.8653 | auc/mean=0.8647 | loss=0.3002\n",
            "8/100 * Epoch (train): 100% 175/175 [00:03<00:00, 47.85it/s, loss=0.311, lr=1.859e-04, momentum=0.915]\n",
            "8/100 * Epoch (valid): 100% 44/44 [00:00<00:00, 92.60it/s, loss=0.141]\n",
            "[2020-12-11 22:20:30,620] \n",
            "8/100 * Epoch 8 (_base): lr=0.0002 | momentum=0.9154\n",
            "8/100 * Epoch 8 (train): auc/class_00=0.8847 | auc/class_01=0.8867 | auc/mean=0.8857 | loss=0.2715 | lr=0.0002 | momentum=0.9191\n",
            "8/100 * Epoch 8 (valid): auc/class_00=0.9065 | auc/class_01=0.9091 | auc/mean=0.9078 | loss=0.2523\n",
            "9/100 * Epoch (train): 100% 175/175 [00:03<00:00, 45.11it/s, loss=0.418, lr=2.226e-04, momentum=0.908]\n",
            "9/100 * Epoch (valid): 100% 44/44 [00:00<00:00, 92.10it/s, loss=0.178]\n",
            "[2020-12-11 22:20:41,516] \n",
            "9/100 * Epoch 9 (_base): lr=0.0002 | momentum=0.9078\n",
            "9/100 * Epoch 9 (train): auc/class_00=0.9242 | auc/class_01=0.9258 | auc/mean=0.9250 | loss=0.2220 | lr=0.0002 | momentum=0.9116\n",
            "9/100 * Epoch 9 (valid): auc/class_00=0.9092 | auc/class_01=0.9108 | auc/mean=0.9100 | loss=0.2614\n",
            "10/100 * Epoch (train): 100% 175/175 [00:03<00:00, 47.68it/s, loss=0.102, lr=2.601e-04, momentum=0.900]\n",
            "10/100 * Epoch (valid): 100% 44/44 [00:00<00:00, 113.31it/s, loss=0.034]\n",
            "[2020-12-11 22:20:51,115] \n",
            "10/100 * Epoch 10 (_base): lr=0.0003 | momentum=0.9000\n",
            "10/100 * Epoch 10 (train): auc/class_00=0.9450 | auc/class_01=0.9462 | auc/mean=0.9456 | loss=0.1932 | lr=0.0002 | momentum=0.9039\n",
            "10/100 * Epoch 10 (valid): auc/class_00=0.9166 | auc/class_01=0.9182 | auc/mean=0.9174 | loss=0.2619\n",
            "11/100 * Epoch (train): 100% 175/175 [00:03<00:00, 50.57it/s, loss=0.018, lr=2.977e-04, momentum=0.892]\n",
            "11/100 * Epoch (valid): 100% 44/44 [00:00<00:00, 107.92it/s, loss=0.297]\n",
            "[2020-12-11 22:20:56,607] \n",
            "11/100 * Epoch 11 (_base): lr=0.0003 | momentum=0.8922\n",
            "11/100 * Epoch 11 (train): auc/class_00=0.9484 | auc/class_01=0.9489 | auc/mean=0.9486 | loss=0.1885 | lr=0.0003 | momentum=0.8960\n",
            "11/100 * Epoch 11 (valid): auc/class_00=0.9057 | auc/class_01=0.9080 | auc/mean=0.9068 | loss=0.2882\n",
            "12/100 * Epoch (train): 100% 175/175 [00:03<00:00, 49.01it/s, loss=0.005, lr=3.343e-04, momentum=0.885]\n",
            "12/100 * Epoch (valid): 100% 44/44 [00:00<00:00, 111.09it/s, loss=0.037]\n",
            "[2020-12-11 22:21:03,122] \n",
            "12/100 * Epoch 12 (_base): lr=0.0003 | momentum=0.8845\n",
            "12/100 * Epoch 12 (train): auc/class_00=0.9569 | auc/class_01=0.9553 | auc/mean=0.9561 | loss=0.1787 | lr=0.0003 | momentum=0.8883\n",
            "12/100 * Epoch 12 (valid): auc/class_00=0.9086 | auc/class_01=0.9144 | auc/mean=0.9115 | loss=0.2714\n",
            "13/100 * Epoch (train): 100% 175/175 [00:03<00:00, 49.71it/s, loss=0.294, lr=3.691e-04, momentum=0.877]\n",
            "13/100 * Epoch (valid): 100% 44/44 [00:00<00:00, 119.14it/s, loss=0.095]\n",
            "[2020-12-11 22:21:10,634] \n",
            "13/100 * Epoch 13 (_base): lr=0.0004 | momentum=0.8773\n",
            "13/100 * Epoch 13 (train): auc/class_00=0.9578 | auc/class_01=0.9586 | auc/mean=0.9582 | loss=0.1719 | lr=0.0004 | momentum=0.8808\n",
            "13/100 * Epoch 13 (valid): auc/class_00=0.9244 | auc/class_01=0.9237 | auc/mean=0.9240 | loss=0.2488\n",
            "14/100 * Epoch (train): 100% 175/175 [00:03<00:00, 49.35it/s, loss=0.469, lr=4.012e-04, momentum=0.871]\n",
            "14/100 * Epoch (valid): 100% 44/44 [00:00<00:00, 117.43it/s, loss=0.132]\n",
            "[2020-12-11 22:21:23,227] \n",
            "14/100 * Epoch 14 (_base): lr=0.0004 | momentum=0.8706\n",
            "14/100 * Epoch 14 (train): auc/class_00=0.9587 | auc/class_01=0.9577 | auc/mean=0.9582 | loss=0.1650 | lr=0.0004 | momentum=0.8739\n",
            "14/100 * Epoch 14 (valid): auc/class_00=0.9143 | auc/class_01=0.9181 | auc/mean=0.9162 | loss=0.2535\n",
            "15/100 * Epoch (train): 100% 175/175 [00:03<00:00, 45.76it/s, loss=0.217, lr=4.298e-04, momentum=0.865]\n",
            "15/100 * Epoch (valid): 100% 44/44 [00:00<00:00, 98.13it/s, loss=0.046]\n",
            "[2020-12-11 22:21:34,435] \n",
            "15/100 * Epoch 15 (_base): lr=0.0004 | momentum=0.8646\n",
            "15/100 * Epoch 15 (train): auc/class_00=0.9616 | auc/class_01=0.9626 | auc/mean=0.9621 | loss=0.1642 | lr=0.0004 | momentum=0.8675\n",
            "15/100 * Epoch 15 (valid): auc/class_00=0.9054 | auc/class_01=0.9088 | auc/mean=0.9071 | loss=0.2678\n",
            "16/100 * Epoch (train): 100% 175/175 [00:03<00:00, 47.81it/s, loss=0.224, lr=4.543e-04, momentum=0.860]\n",
            "16/100 * Epoch (valid): 100% 44/44 [00:00<00:00, 111.63it/s, loss=0.098]\n",
            "[2020-12-11 22:21:40,131] \n",
            "16/100 * Epoch 16 (_base): lr=0.0005 | momentum=0.8595\n",
            "16/100 * Epoch 16 (train): auc/class_00=0.9634 | auc/class_01=0.9652 | auc/mean=0.9643 | loss=0.1599 | lr=0.0004 | momentum=0.8620\n",
            "16/100 * Epoch 16 (valid): auc/class_00=0.9039 | auc/class_01=0.9080 | auc/mean=0.9059 | loss=0.2722\n",
            "17/100 * Epoch (train): 100% 175/175 [00:03<00:00, 50.03it/s, loss=0.011, lr=4.739e-04, momentum=0.855]\n",
            "17/100 * Epoch (valid): 100% 44/44 [00:00<00:00, 103.69it/s, loss=0.061]\n",
            "[2020-12-11 22:21:45,745] \n",
            "17/100 * Epoch 17 (_base): lr=0.0005 | momentum=0.8554\n",
            "17/100 * Epoch 17 (train): auc/class_00=0.9689 | auc/class_01=0.9691 | auc/mean=0.9690 | loss=0.1481 | lr=0.0005 | momentum=0.8574\n",
            "17/100 * Epoch 17 (valid): auc/class_00=0.9032 | auc/class_01=0.9104 | auc/mean=0.9068 | loss=0.2632\n",
            "18/100 * Epoch (train): 100% 175/175 [00:03<00:00, 48.08it/s, loss=0.160, lr=4.883e-04, momentum=0.852]\n",
            "18/100 * Epoch (valid): 100% 44/44 [00:00<00:00, 106.82it/s, loss=0.027]\n",
            "[2020-12-11 22:21:54,399] \n",
            "18/100 * Epoch 18 (_base): lr=0.0005 | momentum=0.8524\n",
            "18/100 * Epoch 18 (train): auc/class_00=0.9709 | auc/class_01=0.9719 | auc/mean=0.9714 | loss=0.1443 | lr=0.0005 | momentum=0.8538\n",
            "18/100 * Epoch 18 (valid): auc/class_00=0.9091 | auc/class_01=0.9134 | auc/mean=0.9113 | loss=0.2777\n",
            "19/100 * Epoch (train): 100% 175/175 [00:03<00:00, 46.66it/s, loss=0.097, lr=4.971e-04, momentum=0.851]\n",
            "19/100 * Epoch (valid): 100% 44/44 [00:00<00:00, 103.54it/s, loss=0.078]\n",
            "[2020-12-11 22:22:04,977] \n",
            "19/100 * Epoch 19 (_base): lr=0.0005 | momentum=0.8506\n",
            "19/100 * Epoch 19 (train): auc/class_00=0.9732 | auc/class_01=0.9727 | auc/mean=0.9730 | loss=0.1378 | lr=0.0005 | momentum=0.8514\n",
            "19/100 * Epoch 19 (valid): auc/class_00=0.8793 | auc/class_01=0.8964 | auc/mean=0.8879 | loss=0.3493\n",
            "20/100 * Epoch (train): 100% 175/175 [00:03<00:00, 46.14it/s, loss=0.427, lr=5.000e-04, momentum=0.850]\n",
            "20/100 * Epoch (valid): 100% 44/44 [00:00<00:00, 103.62it/s, loss=0.080]\n",
            "[2020-12-11 22:22:14,435] \n",
            "20/100 * Epoch 20 (_base): lr=0.0005 | momentum=0.8500\n",
            "20/100 * Epoch 20 (train): auc/class_00=0.9543 | auc/class_01=0.9552 | auc/mean=0.9548 | loss=0.1738 | lr=0.0005 | momentum=0.8502\n",
            "20/100 * Epoch 20 (valid): auc/class_00=0.8756 | auc/class_01=0.8907 | auc/mean=0.8832 | loss=0.3040\n",
            "21/100 * Epoch (train): 100% 175/175 [00:03<00:00, 48.89it/s, loss=0.011, lr=4.998e-04, momentum=0.850]\n",
            "21/100 * Epoch (valid): 100% 44/44 [00:00<00:00, 112.85it/s, loss=0.013]\n",
            "[2020-12-11 22:22:20,191] \n",
            "21/100 * Epoch 21 (_base): lr=0.0005 | momentum=0.8500\n",
            "21/100 * Epoch 21 (train): auc/class_00=0.9639 | auc/class_01=0.9668 | auc/mean=0.9653 | loss=0.1498 | lr=0.0005 | momentum=0.8500\n",
            "21/100 * Epoch 21 (valid): auc/class_00=0.9104 | auc/class_01=0.9123 | auc/mean=0.9113 | loss=0.2606\n",
            "22/100 * Epoch (train): 100% 175/175 [00:03<00:00, 49.13it/s, loss=0.259, lr=4.992e-04, momentum=0.850]\n",
            "22/100 * Epoch (valid): 100% 44/44 [00:00<00:00, 105.88it/s, loss=0.039]\n",
            "[2020-12-11 22:22:25,748] \n",
            "22/100 * Epoch 22 (_base): lr=0.0005 | momentum=0.8502\n",
            "22/100 * Epoch 22 (train): auc/class_00=0.9682 | auc/class_01=0.9677 | auc/mean=0.9679 | loss=0.1484 | lr=0.0005 | momentum=0.8501\n",
            "22/100 * Epoch 22 (valid): auc/class_00=0.9026 | auc/class_01=0.9055 | auc/mean=0.9040 | loss=0.2471\n",
            "23/100 * Epoch (train): 100% 175/175 [00:03<00:00, 45.27it/s, loss=0.021, lr=4.983e-04, momentum=0.850]\n",
            "23/100 * Epoch (valid): 100% 44/44 [00:00<00:00, 77.33it/s, loss=0.061]\n",
            "[2020-12-11 22:22:40,231] \n",
            "23/100 * Epoch 23 (_base): lr=0.0005 | momentum=0.8503\n",
            "23/100 * Epoch 23 (train): auc/class_00=0.9668 | auc/class_01=0.9652 | auc/mean=0.9660 | loss=0.1560 | lr=0.0005 | momentum=0.8502\n",
            "23/100 * Epoch 23 (valid): auc/class_00=0.9092 | auc/class_01=0.9073 | auc/mean=0.9083 | loss=0.2688\n",
            "24/100 * Epoch (train): 100% 175/175 [00:03<00:00, 45.57it/s, loss=0.049, lr=4.969e-04, momentum=0.851]\n",
            "24/100 * Epoch (valid): 100% 44/44 [00:00<00:00, 111.92it/s, loss=0.209]\n",
            "[2020-12-11 22:22:46,414] \n",
            "24/100 * Epoch 24 (_base): lr=0.0005 | momentum=0.8506\n",
            "24/100 * Epoch 24 (train): auc/class_00=0.9710 | auc/class_01=0.9720 | auc/mean=0.9715 | loss=0.1431 | lr=0.0005 | momentum=0.8505\n",
            "24/100 * Epoch 24 (valid): auc/class_00=0.8798 | auc/class_01=0.8836 | auc/mean=0.8817 | loss=0.3334\n",
            "25/100 * Epoch (train): 100% 175/175 [00:03<00:00, 44.70it/s, loss=0.681, lr=4.952e-04, momentum=0.851]\n",
            "25/100 * Epoch (valid): 100% 44/44 [00:00<00:00, 94.39it/s, loss=0.084]\n",
            "[2020-12-11 22:22:57,655] \n",
            "25/100 * Epoch 25 (_base): lr=0.0005 | momentum=0.8510\n",
            "25/100 * Epoch 25 (train): auc/class_00=0.9744 | auc/class_01=0.9739 | auc/mean=0.9741 | loss=0.1318 | lr=0.0005 | momentum=0.8508\n",
            "25/100 * Epoch 25 (valid): auc/class_00=0.9050 | auc/class_01=0.9099 | auc/mean=0.9075 | loss=0.2950\n",
            "26/100 * Epoch (train): 100% 175/175 [00:03<00:00, 48.35it/s, loss=0.060, lr=4.931e-04, momentum=0.851]\n",
            "26/100 * Epoch (valid): 100% 44/44 [00:00<00:00, 113.40it/s, loss=0.079]\n",
            "[2020-12-11 22:23:03,491] \n",
            "26/100 * Epoch 26 (_base): lr=0.0005 | momentum=0.8514\n",
            "26/100 * Epoch 26 (train): auc/class_00=0.9722 | auc/class_01=0.9721 | auc/mean=0.9721 | loss=0.1377 | lr=0.0005 | momentum=0.8512\n",
            "26/100 * Epoch 26 (valid): auc/class_00=0.9064 | auc/class_01=0.9113 | auc/mean=0.9088 | loss=0.2760\n",
            "27/100 * Epoch (train): 100% 175/175 [00:03<00:00, 48.47it/s, loss=0.077, lr=4.906e-04, momentum=0.852]\n",
            "27/100 * Epoch (valid): 100% 44/44 [00:00<00:00, 113.08it/s, loss=0.032]\n",
            "[2020-12-11 22:23:09,148] \n",
            "27/100 * Epoch 27 (_base): lr=0.0005 | momentum=0.8519\n",
            "27/100 * Epoch 27 (train): auc/class_00=0.9764 | auc/class_01=0.9765 | auc/mean=0.9765 | loss=0.1335 | lr=0.0005 | momentum=0.8516\n",
            "27/100 * Epoch 27 (valid): auc/class_00=0.9032 | auc/class_01=0.9014 | auc/mean=0.9023 | loss=0.2941\n",
            "28/100 * Epoch (train): 100% 175/175 [00:04<00:00, 41.63it/s, loss=0.207, lr=4.877e-04, momentum=0.852]\n",
            "28/100 * Epoch (valid): 100% 44/44 [00:00<00:00, 94.62it/s, loss=0.048]\n",
            "[2020-12-11 22:23:20,544] \n",
            "28/100 * Epoch 28 (_base): lr=0.0005 | momentum=0.8525\n",
            "28/100 * Epoch 28 (train): auc/class_00=0.9709 | auc/class_01=0.9710 | auc/mean=0.9710 | loss=0.1405 | lr=0.0005 | momentum=0.8522\n",
            "28/100 * Epoch 28 (valid): auc/class_00=0.9004 | auc/class_01=0.9008 | auc/mean=0.9006 | loss=0.2689\n",
            "29/100 * Epoch (train): 100% 175/175 [00:03<00:00, 47.27it/s, loss=0.009, lr=4.845e-04, momentum=0.853]\n",
            "29/100 * Epoch (valid): 100% 44/44 [00:00<00:00, 110.49it/s, loss=0.030]\n",
            "[2020-12-11 22:23:26,670] \n",
            "29/100 * Epoch 29 (_base): lr=0.0005 | momentum=0.8531\n",
            "29/100 * Epoch 29 (train): auc/class_00=0.9739 | auc/class_01=0.9735 | auc/mean=0.9737 | loss=0.1284 | lr=0.0005 | momentum=0.8528\n",
            "29/100 * Epoch 29 (valid): auc/class_00=0.8894 | auc/class_01=0.8874 | auc/mean=0.8884 | loss=0.2766\n",
            "30/100 * Epoch (train): 100% 175/175 [00:03<00:00, 47.41it/s, loss=0.010, lr=4.809e-04, momentum=0.854]\n",
            "30/100 * Epoch (valid): 100% 44/44 [00:00<00:00, 105.92it/s, loss=0.108]\n",
            "[2020-12-11 22:23:32,579] \n",
            "30/100 * Epoch 30 (_base): lr=0.0005 | momentum=0.8538\n",
            "30/100 * Epoch 30 (train): auc/class_00=0.9740 | auc/class_01=0.9757 | auc/mean=0.9749 | loss=0.1274 | lr=0.0005 | momentum=0.8534\n",
            "30/100 * Epoch 30 (valid): auc/class_00=0.8701 | auc/class_01=0.8732 | auc/mean=0.8716 | loss=0.3930\n",
            "31/100 * Epoch (train): 100% 175/175 [00:03<00:00, 47.09it/s, loss=0.109, lr=4.770e-04, momentum=0.855]\n",
            "31/100 * Epoch (valid): 100% 44/44 [00:00<00:00, 108.53it/s, loss=0.011]\n",
            "[2020-12-11 22:23:40,405] \n",
            "31/100 * Epoch 31 (_base): lr=0.0005 | momentum=0.8546\n",
            "31/100 * Epoch 31 (train): auc/class_00=0.9720 | auc/class_01=0.9718 | auc/mean=0.9719 | loss=0.1383 | lr=0.0005 | momentum=0.8542\n",
            "31/100 * Epoch 31 (valid): auc/class_00=0.9083 | auc/class_01=0.9096 | auc/mean=0.9089 | loss=0.3015\n",
            "32/100 * Epoch (train): 100% 175/175 [00:03<00:00, 46.72it/s, loss=0.009, lr=4.727e-04, momentum=0.855]\n",
            "32/100 * Epoch (valid): 100% 44/44 [00:00<00:00, 90.72it/s, loss=0.027]\n",
            "[2020-12-11 22:23:48,391] \n",
            "32/100 * Epoch 32 (_base): lr=0.0005 | momentum=0.8555\n",
            "32/100 * Epoch 32 (train): auc/class_00=0.9748 | auc/class_01=0.9756 | auc/mean=0.9752 | loss=0.1205 | lr=0.0005 | momentum=0.8550\n",
            "32/100 * Epoch 32 (valid): auc/class_00=0.8943 | auc/class_01=0.8952 | auc/mean=0.8948 | loss=0.2872\n",
            "Early stop at 32 epoch\n"
          ],
          "name": "stdout"
        },
        {
          "output_type": "display_data",
          "data": {
            "text/html": [
              "<br/>Waiting for W&B process to finish, PID 527<br/>Program ended successfully."
            ],
            "text/plain": [
              "<IPython.core.display.HTML object>"
            ]
          },
          "metadata": {
            "tags": []
          }
        },
        {
          "output_type": "display_data",
          "data": {
            "application/vnd.jupyter.widget-view+json": {
              "model_id": "b2bc5bc70f4542548dc70bc42f313a7c",
              "version_minor": 0,
              "version_major": 2
            },
            "text/plain": [
              "VBox(children=(Label(value=' 0.01MB of 0.01MB uploaded (0.00MB deduped)\\r'), FloatProgress(value=1.0, max=1.0)…"
            ]
          },
          "metadata": {
            "tags": []
          }
        },
        {
          "output_type": "display_data",
          "data": {
            "text/html": [
              "Find user logs for this run at: <code>drive/MyDrive/logdir_transformer-no-descriptor/wandb/run-20201211_221927-22t2cp75/logs/debug.log</code>"
            ],
            "text/plain": [
              "<IPython.core.display.HTML object>"
            ]
          },
          "metadata": {
            "tags": []
          }
        },
        {
          "output_type": "display_data",
          "data": {
            "text/html": [
              "Find internal logs for this run at: <code>drive/MyDrive/logdir_transformer-no-descriptor/wandb/run-20201211_221927-22t2cp75/logs/debug-internal.log</code>"
            ],
            "text/plain": [
              "<IPython.core.display.HTML object>"
            ]
          },
          "metadata": {
            "tags": []
          }
        },
        {
          "output_type": "display_data",
          "data": {
            "text/html": [
              "<h3>Run summary:</h3><br/><style>\n",
              "    table.wandb td:nth-child(1) { padding: 0 10px; text-align: right }\n",
              "    </style><table class=\"wandb\">\n",
              "<tr><td>auc/class_00/train</td><td>0.97478</td></tr><tr><td>auc/class_01/train</td><td>0.97559</td></tr><tr><td>auc/mean/train</td><td>0.97519</td></tr><tr><td>loss/train</td><td>0.12054</td></tr><tr><td>lr/train</td><td>0.00047</td></tr><tr><td>momentum/train</td><td>0.85502</td></tr><tr><td>auc/class_00/valid</td><td>0.89433</td></tr><tr><td>auc/class_01/valid</td><td>0.89523</td></tr><tr><td>auc/mean/valid</td><td>0.89478</td></tr><tr><td>loss/valid</td><td>0.28724</td></tr><tr><td>lr/_base</td><td>0.00047</td></tr><tr><td>momentum/_base</td><td>0.85545</td></tr><tr><td>_step</td><td>32</td></tr><tr><td>_runtime</td><td>261</td></tr><tr><td>_timestamp</td><td>1607725428</td></tr></table>"
            ],
            "text/plain": [
              "<IPython.core.display.HTML object>"
            ]
          },
          "metadata": {
            "tags": []
          }
        },
        {
          "output_type": "display_data",
          "data": {
            "text/html": [
              "<h3>Run history:</h3><br/><style>\n",
              "    table.wandb td:nth-child(1) { padding: 0 10px; text-align: right }\n",
              "    </style><table class=\"wandb\">\n",
              "<tr><td>auc/class_00/train</td><td>▁▁▁▁▁▃▅▇▇███████████████████████</td></tr><tr><td>auc/class_01/train</td><td>▁▁▁▁▁▃▅▇▇███████████████████████</td></tr><tr><td>auc/mean/train</td><td>▁▁▁▁▁▃▅▇▇███████████████████████</td></tr><tr><td>loss/train</td><td>█▇▇▇▇▇▆▄▃▂▂▂▂▂▂▂▂▁▁▂▂▂▂▁▁▁▁▁▁▁▁▁</td></tr><tr><td>lr/train</td><td>▁▁▁▂▂▂▃▃▄▄▅▅▆▆▇▇▇███████████████</td></tr><tr><td>momentum/train</td><td>███▇▇▇▆▆▅▅▄▄▃▃▂▂▂▁▁▁▁▁▁▁▁▁▁▁▁▁▁▁</td></tr><tr><td>auc/class_00/valid</td><td>▁▃▅▄▄▆▇███████████▇▇███▇████▇▇██</td></tr><tr><td>auc/class_01/valid</td><td>▁▃▄▄▄▆▇████████████████▇████▇▇██</td></tr><tr><td>auc/mean/valid</td><td>▁▃▄▄▄▆▇███████████▇▇███▇████▇▇██</td></tr><tr><td>loss/valid</td><td>█▇▇▆▆▅▃▁▁▂▂▂▁▁▂▂▂▂▅▃▁▁▂▄▃▂▃▂▂▆▃▂</td></tr><tr><td>lr/_base</td><td>▁▁▁▂▂▂▃▃▄▄▅▆▆▇▇▇████████████████</td></tr><tr><td>momentum/_base</td><td>███▇▇▇▆▆▅▅▄▃▃▂▂▂▁▁▁▁▁▁▁▁▁▁▁▁▁▁▁▁</td></tr><tr><td>_step</td><td>▁▁▁▂▂▂▂▃▃▃▃▃▄▄▄▄▅▅▅▅▆▆▆▆▆▇▇▇▇███</td></tr><tr><td>_runtime</td><td>▁▁▁▂▂▂▂▃▃▃▃▃▄▄▄▅▅▅▅▅▆▆▆▆▇▇▇▇▇███</td></tr><tr><td>_timestamp</td><td>▁▁▁▂▂▂▂▃▃▃▃▃▄▄▄▅▅▅▅▅▆▆▆▆▇▇▇▇▇███</td></tr></table><br/>"
            ],
            "text/plain": [
              "<IPython.core.display.HTML object>"
            ]
          },
          "metadata": {
            "tags": []
          }
        },
        {
          "output_type": "display_data",
          "data": {
            "text/html": [
              "Synced 5 W&B file(s), 1 media file(s), 0 artifact file(s) and 0 other file(s)"
            ],
            "text/plain": [
              "<IPython.core.display.HTML object>"
            ]
          },
          "metadata": {
            "tags": []
          }
        },
        {
          "output_type": "display_data",
          "data": {
            "text/html": [
              "\n",
              "                    <br/>Synced <strong style=\"color:#cdcd00\">transformer-no-descriptor</strong>: <a href=\"https://wandb.ai/dimaorekhov/egfr-project/runs/22t2cp75\" target=\"_blank\">https://wandb.ai/dimaorekhov/egfr-project/runs/22t2cp75</a><br/>\n",
              "                "
            ],
            "text/plain": [
              "<IPython.core.display.HTML object>"
            ]
          },
          "metadata": {
            "tags": []
          }
        },
        {
          "output_type": "stream",
          "text": [
            "Top best models:\n",
            "drive/MyDrive/logdir_transformer-no-descriptor/checkpoints/train.22.pth\t0.2471\n"
          ],
          "name": "stdout"
        }
      ]
    },
    {
      "cell_type": "code",
      "metadata": {
        "id": "V6Qc8WSTv5mt"
      },
      "source": [
        ""
      ],
      "execution_count": null,
      "outputs": []
    }
  ]
}