{
  "nbformat": 4,
  "nbformat_minor": 0,
  "metadata": {
    "kernelspec": {
      "display_name": "Python 3",
      "language": "python",
      "name": "python3"
    },
    "language_info": {
      "codemirror_mode": {
        "name": "ipython",
        "version": 3
      },
      "file_extension": ".py",
      "mimetype": "text/x-python",
      "name": "python",
      "nbconvert_exporter": "python",
      "pygments_lexer": "ipython3",
      "version": "3.8.5"
    },
    "colab": {
      "name": "transformer-with-descriptor.ipynb",
      "provenance": [],
      "collapsed_sections": []
    },
    "accelerator": "GPU",
    "widgets": {
      "application/vnd.jupyter.widget-state+json": {
        "13e4a70e3a3e4ed2a223a2fba08262c1": {
          "model_module": "@jupyter-widgets/controls",
          "model_name": "VBoxModel",
          "state": {
            "_view_name": "VBoxView",
            "_dom_classes": [],
            "_model_name": "VBoxModel",
            "_view_module": "@jupyter-widgets/controls",
            "_model_module_version": "1.5.0",
            "_view_count": null,
            "_view_module_version": "1.5.0",
            "box_style": "",
            "layout": "IPY_MODEL_e82271e63ae841929d5cc6dca3f53d48",
            "_model_module": "@jupyter-widgets/controls",
            "children": [
              "IPY_MODEL_65c7537c13ed4cbb8bd3f31b8bd73e79",
              "IPY_MODEL_50358b66bf8b446da124bb70e0303559"
            ]
          }
        },
        "e82271e63ae841929d5cc6dca3f53d48": {
          "model_module": "@jupyter-widgets/base",
          "model_name": "LayoutModel",
          "state": {
            "_view_name": "LayoutView",
            "grid_template_rows": null,
            "right": null,
            "justify_content": null,
            "_view_module": "@jupyter-widgets/base",
            "overflow": null,
            "_model_module_version": "1.2.0",
            "_view_count": null,
            "flex_flow": null,
            "width": null,
            "min_width": null,
            "border": null,
            "align_items": null,
            "bottom": null,
            "_model_module": "@jupyter-widgets/base",
            "top": null,
            "grid_column": null,
            "overflow_y": null,
            "overflow_x": null,
            "grid_auto_flow": null,
            "grid_area": null,
            "grid_template_columns": null,
            "flex": null,
            "_model_name": "LayoutModel",
            "justify_items": null,
            "grid_row": null,
            "max_height": null,
            "align_content": null,
            "visibility": null,
            "align_self": null,
            "height": null,
            "min_height": null,
            "padding": null,
            "grid_auto_rows": null,
            "grid_gap": null,
            "max_width": null,
            "order": null,
            "_view_module_version": "1.2.0",
            "grid_template_areas": null,
            "object_position": null,
            "object_fit": null,
            "grid_auto_columns": null,
            "margin": null,
            "display": null,
            "left": null
          }
        },
        "65c7537c13ed4cbb8bd3f31b8bd73e79": {
          "model_module": "@jupyter-widgets/controls",
          "model_name": "LabelModel",
          "state": {
            "_view_name": "LabelView",
            "style": "IPY_MODEL_160b0b034d3a45aa8bd158de5e87afcc",
            "_dom_classes": [],
            "description": "",
            "_model_name": "LabelModel",
            "placeholder": "​",
            "_view_module": "@jupyter-widgets/controls",
            "_model_module_version": "1.5.0",
            "value": " 0.51MB of 0.51MB uploaded (0.00MB deduped)\r",
            "_view_count": null,
            "_view_module_version": "1.5.0",
            "description_tooltip": null,
            "_model_module": "@jupyter-widgets/controls",
            "layout": "IPY_MODEL_905376df8ba24a22ad95a3634b801cef"
          }
        },
        "50358b66bf8b446da124bb70e0303559": {
          "model_module": "@jupyter-widgets/controls",
          "model_name": "FloatProgressModel",
          "state": {
            "_view_name": "ProgressView",
            "style": "IPY_MODEL_8879e24a609341678dfba567a9cdf71c",
            "_dom_classes": [],
            "description": "",
            "_model_name": "FloatProgressModel",
            "bar_style": "",
            "max": 1,
            "_view_module": "@jupyter-widgets/controls",
            "_model_module_version": "1.5.0",
            "value": 1,
            "_view_count": null,
            "_view_module_version": "1.5.0",
            "orientation": "horizontal",
            "min": 0,
            "description_tooltip": null,
            "_model_module": "@jupyter-widgets/controls",
            "layout": "IPY_MODEL_e19528372d394c118859803f63fb3f5c"
          }
        },
        "160b0b034d3a45aa8bd158de5e87afcc": {
          "model_module": "@jupyter-widgets/controls",
          "model_name": "DescriptionStyleModel",
          "state": {
            "_view_name": "StyleView",
            "_model_name": "DescriptionStyleModel",
            "description_width": "",
            "_view_module": "@jupyter-widgets/base",
            "_model_module_version": "1.5.0",
            "_view_count": null,
            "_view_module_version": "1.2.0",
            "_model_module": "@jupyter-widgets/controls"
          }
        },
        "905376df8ba24a22ad95a3634b801cef": {
          "model_module": "@jupyter-widgets/base",
          "model_name": "LayoutModel",
          "state": {
            "_view_name": "LayoutView",
            "grid_template_rows": null,
            "right": null,
            "justify_content": null,
            "_view_module": "@jupyter-widgets/base",
            "overflow": null,
            "_model_module_version": "1.2.0",
            "_view_count": null,
            "flex_flow": null,
            "width": null,
            "min_width": null,
            "border": null,
            "align_items": null,
            "bottom": null,
            "_model_module": "@jupyter-widgets/base",
            "top": null,
            "grid_column": null,
            "overflow_y": null,
            "overflow_x": null,
            "grid_auto_flow": null,
            "grid_area": null,
            "grid_template_columns": null,
            "flex": null,
            "_model_name": "LayoutModel",
            "justify_items": null,
            "grid_row": null,
            "max_height": null,
            "align_content": null,
            "visibility": null,
            "align_self": null,
            "height": null,
            "min_height": null,
            "padding": null,
            "grid_auto_rows": null,
            "grid_gap": null,
            "max_width": null,
            "order": null,
            "_view_module_version": "1.2.0",
            "grid_template_areas": null,
            "object_position": null,
            "object_fit": null,
            "grid_auto_columns": null,
            "margin": null,
            "display": null,
            "left": null
          }
        },
        "8879e24a609341678dfba567a9cdf71c": {
          "model_module": "@jupyter-widgets/controls",
          "model_name": "ProgressStyleModel",
          "state": {
            "_view_name": "StyleView",
            "_model_name": "ProgressStyleModel",
            "description_width": "",
            "_view_module": "@jupyter-widgets/base",
            "_model_module_version": "1.5.0",
            "_view_count": null,
            "_view_module_version": "1.2.0",
            "bar_color": null,
            "_model_module": "@jupyter-widgets/controls"
          }
        },
        "e19528372d394c118859803f63fb3f5c": {
          "model_module": "@jupyter-widgets/base",
          "model_name": "LayoutModel",
          "state": {
            "_view_name": "LayoutView",
            "grid_template_rows": null,
            "right": null,
            "justify_content": null,
            "_view_module": "@jupyter-widgets/base",
            "overflow": null,
            "_model_module_version": "1.2.0",
            "_view_count": null,
            "flex_flow": null,
            "width": null,
            "min_width": null,
            "border": null,
            "align_items": null,
            "bottom": null,
            "_model_module": "@jupyter-widgets/base",
            "top": null,
            "grid_column": null,
            "overflow_y": null,
            "overflow_x": null,
            "grid_auto_flow": null,
            "grid_area": null,
            "grid_template_columns": null,
            "flex": null,
            "_model_name": "LayoutModel",
            "justify_items": null,
            "grid_row": null,
            "max_height": null,
            "align_content": null,
            "visibility": null,
            "align_self": null,
            "height": null,
            "min_height": null,
            "padding": null,
            "grid_auto_rows": null,
            "grid_gap": null,
            "max_width": null,
            "order": null,
            "_view_module_version": "1.2.0",
            "grid_template_areas": null,
            "object_position": null,
            "object_fit": null,
            "grid_auto_columns": null,
            "margin": null,
            "display": null,
            "left": null
          }
        }
      }
    }
  },
  "cells": [
    {
      "cell_type": "code",
      "metadata": {
        "colab": {
          "base_uri": "https://localhost:8080/"
        },
        "id": "kjxJq6pVrich",
        "outputId": "45afdfb5-3d5f-457c-9bbc-a219457bcbec"
      },
      "source": [
        "from google.colab import drive\n",
        "drive.mount('/content/drive')"
      ],
      "execution_count": 1,
      "outputs": [
        {
          "output_type": "stream",
          "text": [
            "Drive already mounted at /content/drive; to attempt to forcibly remount, call drive.mount(\"/content/drive\", force_remount=True).\n"
          ],
          "name": "stdout"
        }
      ]
    },
    {
      "cell_type": "code",
      "metadata": {
        "colab": {
          "base_uri": "https://localhost:8080/"
        },
        "id": "N3QbRUnirsRg",
        "outputId": "7c35c682-1cd7-4700-c623-a352c9f06767"
      },
      "source": [
        "!pip install wandb\n",
        "!pip install transformers==4.0.0\n",
        "!pip install catalyst==20.11"
      ],
      "execution_count": 2,
      "outputs": [
        {
          "output_type": "stream",
          "text": [
            "Requirement already satisfied: wandb in /usr/local/lib/python3.6/dist-packages (0.10.12)\n",
            "Requirement already satisfied: subprocess32>=3.5.3 in /usr/local/lib/python3.6/dist-packages (from wandb) (3.5.4)\n",
            "Requirement already satisfied: protobuf>=3.12.0 in /usr/local/lib/python3.6/dist-packages (from wandb) (3.12.4)\n",
            "Requirement already satisfied: GitPython>=1.0.0 in /usr/local/lib/python3.6/dist-packages (from wandb) (3.1.11)\n",
            "Requirement already satisfied: Click>=7.0 in /usr/local/lib/python3.6/dist-packages (from wandb) (7.1.2)\n",
            "Requirement already satisfied: psutil>=5.0.0 in /usr/local/lib/python3.6/dist-packages (from wandb) (5.4.8)\n",
            "Requirement already satisfied: configparser>=3.8.1 in /usr/local/lib/python3.6/dist-packages (from wandb) (5.0.1)\n",
            "Requirement already satisfied: six>=1.13.0 in /usr/local/lib/python3.6/dist-packages (from wandb) (1.15.0)\n",
            "Requirement already satisfied: promise<3,>=2.0 in /usr/local/lib/python3.6/dist-packages (from wandb) (2.3)\n",
            "Requirement already satisfied: shortuuid>=0.5.0 in /usr/local/lib/python3.6/dist-packages (from wandb) (1.0.1)\n",
            "Requirement already satisfied: PyYAML in /usr/local/lib/python3.6/dist-packages (from wandb) (3.13)\n",
            "Requirement already satisfied: requests<3,>=2.0.0 in /usr/local/lib/python3.6/dist-packages (from wandb) (2.23.0)\n",
            "Requirement already satisfied: sentry-sdk>=0.4.0 in /usr/local/lib/python3.6/dist-packages (from wandb) (0.19.5)\n",
            "Requirement already satisfied: python-dateutil>=2.6.1 in /usr/local/lib/python3.6/dist-packages (from wandb) (2.8.1)\n",
            "Requirement already satisfied: docker-pycreds>=0.4.0 in /usr/local/lib/python3.6/dist-packages (from wandb) (0.4.0)\n",
            "Requirement already satisfied: watchdog>=0.8.3 in /usr/local/lib/python3.6/dist-packages (from wandb) (1.0.1)\n",
            "Requirement already satisfied: setuptools in /usr/local/lib/python3.6/dist-packages (from protobuf>=3.12.0->wandb) (50.3.2)\n",
            "Requirement already satisfied: gitdb<5,>=4.0.1 in /usr/local/lib/python3.6/dist-packages (from GitPython>=1.0.0->wandb) (4.0.5)\n",
            "Requirement already satisfied: chardet<4,>=3.0.2 in /usr/local/lib/python3.6/dist-packages (from requests<3,>=2.0.0->wandb) (3.0.4)\n",
            "Requirement already satisfied: idna<3,>=2.5 in /usr/local/lib/python3.6/dist-packages (from requests<3,>=2.0.0->wandb) (2.10)\n",
            "Requirement already satisfied: certifi>=2017.4.17 in /usr/local/lib/python3.6/dist-packages (from requests<3,>=2.0.0->wandb) (2020.12.5)\n",
            "Requirement already satisfied: urllib3!=1.25.0,!=1.25.1,<1.26,>=1.21.1 in /usr/local/lib/python3.6/dist-packages (from requests<3,>=2.0.0->wandb) (1.24.3)\n",
            "Requirement already satisfied: smmap<4,>=3.0.1 in /usr/local/lib/python3.6/dist-packages (from gitdb<5,>=4.0.1->GitPython>=1.0.0->wandb) (3.0.4)\n",
            "Requirement already satisfied: transformers==4.0.0 in /usr/local/lib/python3.6/dist-packages (4.0.0)\n",
            "Requirement already satisfied: tokenizers==0.9.4 in /usr/local/lib/python3.6/dist-packages (from transformers==4.0.0) (0.9.4)\n",
            "Requirement already satisfied: tqdm>=4.27 in /usr/local/lib/python3.6/dist-packages (from transformers==4.0.0) (4.41.1)\n",
            "Requirement already satisfied: sacremoses in /usr/local/lib/python3.6/dist-packages (from transformers==4.0.0) (0.0.43)\n",
            "Requirement already satisfied: regex!=2019.12.17 in /usr/local/lib/python3.6/dist-packages (from transformers==4.0.0) (2019.12.20)\n",
            "Requirement already satisfied: dataclasses; python_version < \"3.7\" in /usr/local/lib/python3.6/dist-packages (from transformers==4.0.0) (0.8)\n",
            "Requirement already satisfied: filelock in /usr/local/lib/python3.6/dist-packages (from transformers==4.0.0) (3.0.12)\n",
            "Requirement already satisfied: requests in /usr/local/lib/python3.6/dist-packages (from transformers==4.0.0) (2.23.0)\n",
            "Requirement already satisfied: packaging in /usr/local/lib/python3.6/dist-packages (from transformers==4.0.0) (20.7)\n",
            "Requirement already satisfied: numpy in /usr/local/lib/python3.6/dist-packages (from transformers==4.0.0) (1.18.5)\n",
            "Requirement already satisfied: six in /usr/local/lib/python3.6/dist-packages (from sacremoses->transformers==4.0.0) (1.15.0)\n",
            "Requirement already satisfied: click in /usr/local/lib/python3.6/dist-packages (from sacremoses->transformers==4.0.0) (7.1.2)\n",
            "Requirement already satisfied: joblib in /usr/local/lib/python3.6/dist-packages (from sacremoses->transformers==4.0.0) (0.17.0)\n",
            "Requirement already satisfied: idna<3,>=2.5 in /usr/local/lib/python3.6/dist-packages (from requests->transformers==4.0.0) (2.10)\n",
            "Requirement already satisfied: certifi>=2017.4.17 in /usr/local/lib/python3.6/dist-packages (from requests->transformers==4.0.0) (2020.12.5)\n",
            "Requirement already satisfied: chardet<4,>=3.0.2 in /usr/local/lib/python3.6/dist-packages (from requests->transformers==4.0.0) (3.0.4)\n",
            "Requirement already satisfied: urllib3!=1.25.0,!=1.25.1,<1.26,>=1.21.1 in /usr/local/lib/python3.6/dist-packages (from requests->transformers==4.0.0) (1.24.3)\n",
            "Requirement already satisfied: pyparsing>=2.0.2 in /usr/local/lib/python3.6/dist-packages (from packaging->transformers==4.0.0) (2.4.7)\n",
            "Requirement already satisfied: catalyst==20.11 in /usr/local/lib/python3.6/dist-packages (20.11)\n",
            "Requirement already satisfied: PyYAML in /usr/local/lib/python3.6/dist-packages (from catalyst==20.11) (3.13)\n",
            "Requirement already satisfied: GitPython>=3.1.1 in /usr/local/lib/python3.6/dist-packages (from catalyst==20.11) (3.1.11)\n",
            "Requirement already satisfied: ipython in /usr/local/lib/python3.6/dist-packages (from catalyst==20.11) (5.5.0)\n",
            "Requirement already satisfied: numpy>=1.16.4 in /usr/local/lib/python3.6/dist-packages (from catalyst==20.11) (1.18.5)\n",
            "Requirement already satisfied: packaging in /usr/local/lib/python3.6/dist-packages (from catalyst==20.11) (20.7)\n",
            "Requirement already satisfied: scikit-learn>=0.20 in /usr/local/lib/python3.6/dist-packages (from catalyst==20.11) (0.22.2.post1)\n",
            "Requirement already satisfied: tqdm>=4.33.0 in /usr/local/lib/python3.6/dist-packages (from catalyst==20.11) (4.41.1)\n",
            "Requirement already satisfied: plotly>=4.1.0 in /usr/local/lib/python3.6/dist-packages (from catalyst==20.11) (4.4.1)\n",
            "Requirement already satisfied: pandas>=0.22 in /usr/local/lib/python3.6/dist-packages (from catalyst==20.11) (1.1.5)\n",
            "Requirement already satisfied: deprecation in /usr/local/lib/python3.6/dist-packages (from catalyst==20.11) (2.1.0)\n",
            "Requirement already satisfied: tensorboardX in /usr/local/lib/python3.6/dist-packages (from catalyst==20.11) (2.1)\n",
            "Requirement already satisfied: matplotlib in /usr/local/lib/python3.6/dist-packages (from catalyst==20.11) (3.2.2)\n",
            "Requirement already satisfied: tensorboard>=1.14.0 in /usr/local/lib/python3.6/dist-packages (from catalyst==20.11) (2.3.0)\n",
            "Requirement already satisfied: torch>=1.1.0 in /usr/local/lib/python3.6/dist-packages (from catalyst==20.11) (1.7.0+cu101)\n",
            "Requirement already satisfied: gitdb<5,>=4.0.1 in /usr/local/lib/python3.6/dist-packages (from GitPython>=3.1.1->catalyst==20.11) (4.0.5)\n",
            "Requirement already satisfied: pygments in /usr/local/lib/python3.6/dist-packages (from ipython->catalyst==20.11) (2.6.1)\n",
            "Requirement already satisfied: prompt-toolkit<2.0.0,>=1.0.4 in /usr/local/lib/python3.6/dist-packages (from ipython->catalyst==20.11) (1.0.18)\n",
            "Requirement already satisfied: decorator in /usr/local/lib/python3.6/dist-packages (from ipython->catalyst==20.11) (4.4.2)\n",
            "Requirement already satisfied: simplegeneric>0.8 in /usr/local/lib/python3.6/dist-packages (from ipython->catalyst==20.11) (0.8.1)\n",
            "Requirement already satisfied: pexpect; sys_platform != \"win32\" in /usr/local/lib/python3.6/dist-packages (from ipython->catalyst==20.11) (4.8.0)\n",
            "Requirement already satisfied: setuptools>=18.5 in /usr/local/lib/python3.6/dist-packages (from ipython->catalyst==20.11) (50.3.2)\n",
            "Requirement already satisfied: traitlets>=4.2 in /usr/local/lib/python3.6/dist-packages (from ipython->catalyst==20.11) (4.3.3)\n",
            "Requirement already satisfied: pickleshare in /usr/local/lib/python3.6/dist-packages (from ipython->catalyst==20.11) (0.7.5)\n",
            "Requirement already satisfied: pyparsing>=2.0.2 in /usr/local/lib/python3.6/dist-packages (from packaging->catalyst==20.11) (2.4.7)\n",
            "Requirement already satisfied: scipy>=0.17.0 in /usr/local/lib/python3.6/dist-packages (from scikit-learn>=0.20->catalyst==20.11) (1.4.1)\n",
            "Requirement already satisfied: joblib>=0.11 in /usr/local/lib/python3.6/dist-packages (from scikit-learn>=0.20->catalyst==20.11) (0.17.0)\n",
            "Requirement already satisfied: retrying>=1.3.3 in /usr/local/lib/python3.6/dist-packages (from plotly>=4.1.0->catalyst==20.11) (1.3.3)\n",
            "Requirement already satisfied: six in /usr/local/lib/python3.6/dist-packages (from plotly>=4.1.0->catalyst==20.11) (1.15.0)\n",
            "Requirement already satisfied: pytz>=2017.2 in /usr/local/lib/python3.6/dist-packages (from pandas>=0.22->catalyst==20.11) (2018.9)\n",
            "Requirement already satisfied: python-dateutil>=2.7.3 in /usr/local/lib/python3.6/dist-packages (from pandas>=0.22->catalyst==20.11) (2.8.1)\n",
            "Requirement already satisfied: protobuf>=3.8.0 in /usr/local/lib/python3.6/dist-packages (from tensorboardX->catalyst==20.11) (3.12.4)\n",
            "Requirement already satisfied: cycler>=0.10 in /usr/local/lib/python3.6/dist-packages (from matplotlib->catalyst==20.11) (0.10.0)\n",
            "Requirement already satisfied: kiwisolver>=1.0.1 in /usr/local/lib/python3.6/dist-packages (from matplotlib->catalyst==20.11) (1.3.1)\n",
            "Requirement already satisfied: grpcio>=1.24.3 in /usr/local/lib/python3.6/dist-packages (from tensorboard>=1.14.0->catalyst==20.11) (1.34.0)\n",
            "Requirement already satisfied: tensorboard-plugin-wit>=1.6.0 in /usr/local/lib/python3.6/dist-packages (from tensorboard>=1.14.0->catalyst==20.11) (1.7.0)\n",
            "Requirement already satisfied: requests<3,>=2.21.0 in /usr/local/lib/python3.6/dist-packages (from tensorboard>=1.14.0->catalyst==20.11) (2.23.0)\n",
            "Requirement already satisfied: werkzeug>=0.11.15 in /usr/local/lib/python3.6/dist-packages (from tensorboard>=1.14.0->catalyst==20.11) (1.0.1)\n",
            "Requirement already satisfied: google-auth<2,>=1.6.3 in /usr/local/lib/python3.6/dist-packages (from tensorboard>=1.14.0->catalyst==20.11) (1.17.2)\n",
            "Requirement already satisfied: markdown>=2.6.8 in /usr/local/lib/python3.6/dist-packages (from tensorboard>=1.14.0->catalyst==20.11) (3.3.3)\n",
            "Requirement already satisfied: google-auth-oauthlib<0.5,>=0.4.1 in /usr/local/lib/python3.6/dist-packages (from tensorboard>=1.14.0->catalyst==20.11) (0.4.2)\n",
            "Requirement already satisfied: absl-py>=0.4 in /usr/local/lib/python3.6/dist-packages (from tensorboard>=1.14.0->catalyst==20.11) (0.10.0)\n",
            "Requirement already satisfied: wheel>=0.26; python_version >= \"3\" in /usr/local/lib/python3.6/dist-packages (from tensorboard>=1.14.0->catalyst==20.11) (0.36.1)\n",
            "Requirement already satisfied: typing-extensions in /usr/local/lib/python3.6/dist-packages (from torch>=1.1.0->catalyst==20.11) (3.7.4.3)\n",
            "Requirement already satisfied: dataclasses in /usr/local/lib/python3.6/dist-packages (from torch>=1.1.0->catalyst==20.11) (0.8)\n",
            "Requirement already satisfied: future in /usr/local/lib/python3.6/dist-packages (from torch>=1.1.0->catalyst==20.11) (0.16.0)\n",
            "Requirement already satisfied: smmap<4,>=3.0.1 in /usr/local/lib/python3.6/dist-packages (from gitdb<5,>=4.0.1->GitPython>=3.1.1->catalyst==20.11) (3.0.4)\n",
            "Requirement already satisfied: wcwidth in /usr/local/lib/python3.6/dist-packages (from prompt-toolkit<2.0.0,>=1.0.4->ipython->catalyst==20.11) (0.2.5)\n",
            "Requirement already satisfied: ptyprocess>=0.5 in /usr/local/lib/python3.6/dist-packages (from pexpect; sys_platform != \"win32\"->ipython->catalyst==20.11) (0.6.0)\n",
            "Requirement already satisfied: ipython-genutils in /usr/local/lib/python3.6/dist-packages (from traitlets>=4.2->ipython->catalyst==20.11) (0.2.0)\n",
            "Requirement already satisfied: idna<3,>=2.5 in /usr/local/lib/python3.6/dist-packages (from requests<3,>=2.21.0->tensorboard>=1.14.0->catalyst==20.11) (2.10)\n",
            "Requirement already satisfied: chardet<4,>=3.0.2 in /usr/local/lib/python3.6/dist-packages (from requests<3,>=2.21.0->tensorboard>=1.14.0->catalyst==20.11) (3.0.4)\n",
            "Requirement already satisfied: urllib3!=1.25.0,!=1.25.1,<1.26,>=1.21.1 in /usr/local/lib/python3.6/dist-packages (from requests<3,>=2.21.0->tensorboard>=1.14.0->catalyst==20.11) (1.24.3)\n",
            "Requirement already satisfied: certifi>=2017.4.17 in /usr/local/lib/python3.6/dist-packages (from requests<3,>=2.21.0->tensorboard>=1.14.0->catalyst==20.11) (2020.12.5)\n",
            "Requirement already satisfied: pyasn1-modules>=0.2.1 in /usr/local/lib/python3.6/dist-packages (from google-auth<2,>=1.6.3->tensorboard>=1.14.0->catalyst==20.11) (0.2.8)\n",
            "Requirement already satisfied: cachetools<5.0,>=2.0.0 in /usr/local/lib/python3.6/dist-packages (from google-auth<2,>=1.6.3->tensorboard>=1.14.0->catalyst==20.11) (4.1.1)\n",
            "Requirement already satisfied: rsa<5,>=3.1.4; python_version >= \"3\" in /usr/local/lib/python3.6/dist-packages (from google-auth<2,>=1.6.3->tensorboard>=1.14.0->catalyst==20.11) (4.6)\n",
            "Requirement already satisfied: importlib-metadata; python_version < \"3.8\" in /usr/local/lib/python3.6/dist-packages (from markdown>=2.6.8->tensorboard>=1.14.0->catalyst==20.11) (3.1.1)\n",
            "Requirement already satisfied: requests-oauthlib>=0.7.0 in /usr/local/lib/python3.6/dist-packages (from google-auth-oauthlib<0.5,>=0.4.1->tensorboard>=1.14.0->catalyst==20.11) (1.3.0)\n",
            "Requirement already satisfied: pyasn1<0.5.0,>=0.4.6 in /usr/local/lib/python3.6/dist-packages (from pyasn1-modules>=0.2.1->google-auth<2,>=1.6.3->tensorboard>=1.14.0->catalyst==20.11) (0.4.8)\n",
            "Requirement already satisfied: zipp>=0.5 in /usr/local/lib/python3.6/dist-packages (from importlib-metadata; python_version < \"3.8\"->markdown>=2.6.8->tensorboard>=1.14.0->catalyst==20.11) (3.4.0)\n",
            "Requirement already satisfied: oauthlib>=3.0.0 in /usr/local/lib/python3.6/dist-packages (from requests-oauthlib>=0.7.0->google-auth-oauthlib<0.5,>=0.4.1->tensorboard>=1.14.0->catalyst==20.11) (3.1.0)\n"
          ],
          "name": "stdout"
        }
      ]
    },
    {
      "cell_type": "code",
      "metadata": {
        "colab": {
          "base_uri": "https://localhost:8080/"
        },
        "id": "qXRj82KQtEkZ",
        "outputId": "79f76113-7adc-430e-b013-cbd3940b6639"
      },
      "source": [
        "!wandb login"
      ],
      "execution_count": 3,
      "outputs": [
        {
          "output_type": "stream",
          "text": [
            "\u001b[34m\u001b[1mwandb\u001b[0m: Currently logged in as: \u001b[33mdimaorekhov\u001b[0m (use `wandb login --relogin` to force relogin)\n"
          ],
          "name": "stdout"
        }
      ]
    },
    {
      "cell_type": "code",
      "metadata": {
        "colab": {
          "base_uri": "https://localhost:8080/"
        },
        "id": "zy-3KpEevDa9",
        "outputId": "733d3321-f45f-47ce-8382-361d5d271bed"
      },
      "source": [
        "!git clone https://github.com/lehgtrung/egfr-att"
      ],
      "execution_count": 4,
      "outputs": [
        {
          "output_type": "stream",
          "text": [
            "fatal: destination path 'egfr-att' already exists and is not an empty directory.\n"
          ],
          "name": "stdout"
        }
      ]
    },
    {
      "cell_type": "code",
      "metadata": {
        "id": "Ytw9q7mNrf2Q"
      },
      "source": [
        "from pathlib import Path\n",
        "import json\n",
        "from transformers import AutoTokenizer, BertModel, BertConfig\n",
        "import pandas as pd\n",
        "from dataclasses import dataclass\n",
        "import torch\n",
        "from torch import nn\n",
        "from torch.utils.data import DataLoader\n",
        "from torch.nn.utils.rnn import pad_sequence\n",
        "from sklearn.model_selection import train_test_split\n",
        "from catalyst import dl\n",
        "from catalyst.utils import set_global_seed\n",
        "\n",
        "\n",
        "ORIGINAL_PAPER_PATH = Path(\"egfr-att\")\n",
        "import sys\n",
        "sys.path.append(ORIGINAL_PAPER_PATH.as_posix())\n",
        "\n",
        "\n",
        "from egfr.dataset import EGFRDataset\n",
        "\n",
        "\n",
        "DEVICE = torch.device('cuda')\n",
        "\n",
        "\n",
        "SEED = 21\n",
        "set_global_seed(SEED)\n",
        "\n",
        "\n",
        "DATA_PATH = ORIGINAL_PAPER_PATH / \"egfr/data/egfr_10_full_ft_pd_lines.json\""
      ],
      "execution_count": 5,
      "outputs": []
    },
    {
      "cell_type": "code",
      "metadata": {
        "id": "QffNi5Rorf2S"
      },
      "source": [
        "EXPERIMENT_NAME = 'transformer-with-descriptor'\n",
        "\n",
        "\n",
        "@dataclass\n",
        "class Config:\n",
        "\n",
        "    tokenizer_path: str = \"seyonec/PubChem10M_SMILES_BPE_450k\"\n",
        "\n",
        "    hidden_size: int = 512\n",
        "    num_hidden_layers: int = 2\n",
        "    num_attention_heads: int = 8\n",
        "    intermediate_size: int = 2048\n",
        "    hidden_dropout_prob: float = 0.1\n",
        "    attention_probs_dropout_prob: float = 0.1\n",
        "\n",
        "    batch_size: int = 16\n",
        "    accumulation_steps: int = 8\n",
        "  \n",
        "    num_epochs: int = 100\n",
        "    patience: int = 10\n",
        "\n",
        "    scheduler: str = 'OneCycleLR'\n",
        "    max_lr: float = 0.0005\n",
        "    warmup_prop: float = 0.2\n",
        "\n",
        "    logdir: str = f'drive/MyDrive/logdir_{EXPERIMENT_NAME}'\n",
        "\n",
        "\n",
        "config = Config()"
      ],
      "execution_count": 6,
      "outputs": []
    },
    {
      "cell_type": "code",
      "metadata": {
        "colab": {
          "base_uri": "https://localhost:8080/"
        },
        "id": "cI5FoiV3rf2S",
        "outputId": "63493cb3-d96d-48bc-de6f-cb8e0e9ec609"
      },
      "source": [
        "tokenizer = AutoTokenizer.from_pretrained(config.tokenizer_path)\n",
        "\n",
        "\n",
        "def get_tokenizer_info(tokenizer):\n",
        "    for key, value in tokenizer.special_tokens_map.items():\n",
        "        print(f\"{key}:\", value, getattr(tokenizer, f\"{key}_id\"))\n",
        "\n",
        "get_tokenizer_info(tokenizer)\n",
        "\n",
        "\n",
        "PAD_TOKEN_ID = tokenizer.pad_token_id"
      ],
      "execution_count": 7,
      "outputs": [
        {
          "output_type": "stream",
          "text": [
            "bos_token: <s> 0\n",
            "eos_token: </s> 2\n",
            "unk_token: <unk> 3\n",
            "sep_token: </s> 2\n",
            "pad_token: <pad> 1\n",
            "cls_token: <s> 0\n",
            "mask_token: <mask> 4\n"
          ],
          "name": "stdout"
        }
      ]
    },
    {
      "cell_type": "code",
      "metadata": {
        "id": "1QZvjAcL2b5B"
      },
      "source": [
        "model_config = BertConfig(\n",
        "    vocab_size=tokenizer.vocab_size,\n",
        "    hidden_size=config.hidden_size,\n",
        "    num_hidden_layers=config.num_hidden_layers,\n",
        "    num_attention_heads=config.num_attention_heads,\n",
        "    intermediate_size=config.intermediate_size,\n",
        "    hidden_dropout_prob=config.hidden_dropout_prob,\n",
        "    attention_probs_dropout_prob=config.attention_probs_dropout_prob,\n",
        "    pad_token_id=PAD_TOKEN_ID\n",
        ")\n",
        "transformer = BertModel(config=model_config)"
      ],
      "execution_count": 8,
      "outputs": []
    },
    {
      "cell_type": "code",
      "metadata": {
        "id": "ISaOSCfKrf2T"
      },
      "source": [
        "class SequenceEGFRDataset(EGFRDataset):\n",
        "\n",
        "    def __init__(self, data, tokenizer):\n",
        "        super().__init__(data, infer=True)\n",
        "        self.tokenizer = tokenizer\n",
        "        self.pad_token_id = tokenizer.pad_token_id\n",
        "        self.encode_smiles()\n",
        "\n",
        "        self.mord_ft = torch.FloatTensor(self.mord_ft)\n",
        "        self.non_mord_ft = torch.FloatTensor(self.non_mord_ft)\n",
        "        self.label = torch.LongTensor(self.label)\n",
        "\n",
        "    def encode_smiles(self):\n",
        "        self.smiles = [\n",
        "            torch.LongTensor(self.tokenizer.encode(s))\n",
        "            for s in self.smiles\n",
        "        ]\n",
        "\n",
        "    def collate_fn(self, batch):\n",
        "        smiles, mord_ft, non_mord_ft, labels = zip(*batch)\n",
        "        smiles = pad_sequence(\n",
        "            smiles, batch_first=True, padding_value=self.pad_token_id\n",
        "        )\n",
        "        mord_ft = torch.stack(mord_ft)\n",
        "        non_mord_ft = torch.stack(non_mord_ft)\n",
        "        labels = torch.stack(labels)\n",
        "        return smiles, mord_ft, non_mord_ft, labels\n",
        "\n",
        "    def make_loader(self, *args, **kwargs):\n",
        "        return DataLoader(self, *args, collate_fn=self.collate_fn, **kwargs)\n"
      ],
      "execution_count": 9,
      "outputs": []
    },
    {
      "cell_type": "code",
      "metadata": {
        "id": "BjJpoUBTrf2U"
      },
      "source": [
        "train, valid = train_test_split(\n",
        "    pd.read_json(DATA_PATH, lines=True), test_size=0.2, random_state=42 #  42 hard code is from original paper code \n",
        ")\n",
        "\n",
        "\n",
        "train_dataset = SequenceEGFRDataset(train, tokenizer)\n",
        "valid_dataset = SequenceEGFRDataset(valid, tokenizer)"
      ],
      "execution_count": 10,
      "outputs": []
    },
    {
      "cell_type": "code",
      "metadata": {
        "colab": {
          "base_uri": "https://localhost:8080/"
        },
        "id": "mYl2iWlKrf2U",
        "outputId": "bc550070-a890-4bf8-9bb9-17217f3c040d"
      },
      "source": [
        "print('Max train smiles length:', max(len(s) for s in train_dataset.smiles))\n",
        "print('Max valid smiles length:', max(len(s) for s in valid_dataset.smiles))"
      ],
      "execution_count": 11,
      "outputs": [
        {
          "output_type": "stream",
          "text": [
            "Max train smiles length: 100\n",
            "Max valid smiles length: 93\n"
          ],
          "name": "stdout"
        }
      ]
    },
    {
      "cell_type": "code",
      "metadata": {
        "id": "TlsWexjDRhR1"
      },
      "source": [
        "class ModelWithDescriptor(nn.Module):\n",
        "\n",
        "    def __init__(self, transformer, dense_dim):\n",
        "      super().__init__()\n",
        "      self.transformer = transformer\n",
        "      self.dropout_prob = transformer.config.hidden_dropout_prob\n",
        "      self.dense = nn.Sequential(\n",
        "          nn.Linear(dense_dim, 512),\n",
        "          nn.ReLU(),\n",
        "          nn.BatchNorm1d(512),\n",
        "          nn.Dropout(p=self.dropout_prob),\n",
        "          nn.Linear(512, 128),\n",
        "          nn.ReLU(),\n",
        "          nn.BatchNorm1d(128),\n",
        "          nn.Dropout(p=self.dropout_prob),\n",
        "          nn.Linear(128, 64),\n",
        "          nn.ReLU(),\n",
        "          nn.BatchNorm1d(64),\n",
        "          nn.Dropout(p=self.dropout_prob)\n",
        "      )\n",
        "      self.fc_out = nn.Linear(transformer.config.hidden_size + 64, 1)\n",
        "\n",
        "    def forward(self, smiles, descriptor):\n",
        "        pooler_out = self.transformer(input_ids=smiles).pooler_output\n",
        "        pooler_out = torch.nn.functional.dropout(pooler_out, p=self.dropout_prob)\n",
        "        dense_out = self.dense(descriptor)\n",
        "        return self.fc_out(torch.cat([pooler_out, dense_out], dim=-1))\n",
        "\n",
        "\n",
        "model = ModelWithDescriptor(transformer, dense_dim=train_dataset.mord_ft.size(-1))"
      ],
      "execution_count": 12,
      "outputs": []
    },
    {
      "cell_type": "code",
      "metadata": {
        "id": "IP5odF2orf2U"
      },
      "source": [
        "loaders = {\n",
        "    'train': train_dataset.make_loader(batch_size=config.batch_size, shuffle=True),\n",
        "    'valid': valid_dataset.make_loader(batch_size=config.batch_size)\n",
        "}"
      ],
      "execution_count": 13,
      "outputs": []
    },
    {
      "cell_type": "code",
      "metadata": {
        "id": "6zc_z-m4rf2V"
      },
      "source": [
        "def init_scheduler(\n",
        "    optimizer: torch.optim.Optimizer,\n",
        "    num_steps_per_epoch: int,\n",
        "    config: Config\n",
        "):\n",
        "\n",
        "    if config.scheduler == 'OneCycleLR':\n",
        "        scheduler = torch.optim.lr_scheduler.OneCycleLR(\n",
        "            optimizer,\n",
        "            max_lr=config.max_lr,\n",
        "            epochs=config.num_epochs,\n",
        "            steps_per_epoch=num_steps_per_epoch,\n",
        "            pct_start=config.warmup_prop\n",
        "        )\n",
        "        return scheduler, 'batch'\n",
        "\n",
        "    return None, None\n"
      ],
      "execution_count": 14,
      "outputs": []
    },
    {
      "cell_type": "code",
      "metadata": {
        "id": "v2WliPf5rf2V"
      },
      "source": [
        "optimizer = torch.optim.Adam(model.parameters())\n",
        "\n",
        "callbacks = [\n",
        "    dl.OptimizerCallback(accumulation_steps=config.accumulation_steps),\n",
        "    dl.EarlyStoppingCallback(patience=config.patience),\n",
        "    dl.WandbLogger(\n",
        "        project='egfr-project',\n",
        "        entity='dimaorekhov',\n",
        "        group='transformer-with-descriptor',\n",
        "        name=EXPERIMENT_NAME,\n",
        "        config=config.__dict__\n",
        "    ),\n",
        "    dl.AUCCallback()\n",
        "]\n",
        "\n",
        "scheduler, mode = init_scheduler(optimizer, len(loaders['train']), config)\n",
        "if scheduler is not None:\n",
        "    callbacks.append(dl.SchedulerCallback(mode=mode))"
      ],
      "execution_count": 15,
      "outputs": []
    },
    {
      "cell_type": "code",
      "metadata": {
        "id": "I0jiMB3Orf2V"
      },
      "source": [
        "class EgfrWithDescriptorRunner(dl.Runner):\n",
        "\n",
        "    def _handle_batch(self, batch):\n",
        "        smiles, mord, _, labels = batch\n",
        "        out = self.model(smiles, mord)\n",
        "        self.batch_metrics['loss'] = torch.nn.functional.binary_cross_entropy_with_logits(\n",
        "            out, labels.unsqueeze(-1).to(torch.float32)\n",
        "        )\n",
        "        self.input = {'targets': labels}\n",
        "        self.output = {'logits': out}\n"
      ],
      "execution_count": 16,
      "outputs": []
    },
    {
      "cell_type": "code",
      "metadata": {
        "id": "UXP1Kqowrf2V"
      },
      "source": [
        "# be careful not to override log dir\n",
        "Path(config.logdir).mkdir(exist_ok=True)"
      ],
      "execution_count": 17,
      "outputs": []
    },
    {
      "cell_type": "code",
      "metadata": {
        "colab": {
          "base_uri": "https://localhost:8080/",
          "height": 1000,
          "referenced_widgets": [
            "13e4a70e3a3e4ed2a223a2fba08262c1",
            "e82271e63ae841929d5cc6dca3f53d48",
            "65c7537c13ed4cbb8bd3f31b8bd73e79",
            "50358b66bf8b446da124bb70e0303559",
            "160b0b034d3a45aa8bd158de5e87afcc",
            "905376df8ba24a22ad95a3634b801cef",
            "8879e24a609341678dfba567a9cdf71c",
            "e19528372d394c118859803f63fb3f5c"
          ]
        },
        "id": "Q85o-Y3urf2W",
        "outputId": "806ec076-4fc9-4660-fc79-3a0c64932b12"
      },
      "source": [
        "runner = EgfrWithDescriptorRunner(device=DEVICE)\n",
        "runner.train(\n",
        "    model=model,\n",
        "    loaders=loaders,\n",
        "    optimizer=optimizer,\n",
        "    scheduler=scheduler,        \n",
        "    num_epochs=config.num_epochs,\n",
        "    verbose=True,\n",
        "    logdir=config.logdir,\n",
        "    callbacks=callbacks\n",
        ")"
      ],
      "execution_count": 18,
      "outputs": [
        {
          "output_type": "stream",
          "text": [
            "\u001b[34m\u001b[1mwandb\u001b[0m: Currently logged in as: \u001b[33mdimaorekhov\u001b[0m (use `wandb login --relogin` to force relogin)\n"
          ],
          "name": "stderr"
        },
        {
          "output_type": "display_data",
          "data": {
            "text/html": [
              "\n",
              "                Tracking run with wandb version 0.10.12<br/>\n",
              "                Syncing run <strong style=\"color:#cdcd00\">transformer-with-descriptor</strong> to <a href=\"https://wandb.ai\" target=\"_blank\">Weights & Biases</a> <a href=\"https://docs.wandb.com/integrations/jupyter.html\" target=\"_blank\">(Documentation)</a>.<br/>\n",
              "                Project page: <a href=\"https://wandb.ai/dimaorekhov/egfr-project\" target=\"_blank\">https://wandb.ai/dimaorekhov/egfr-project</a><br/>\n",
              "                Run page: <a href=\"https://wandb.ai/dimaorekhov/egfr-project/runs/2oe4bcgg\" target=\"_blank\">https://wandb.ai/dimaorekhov/egfr-project/runs/2oe4bcgg</a><br/>\n",
              "                Run data is saved locally in <code>drive/MyDrive/logdir_transformer-with-descriptor/wandb/run-20201212_001318-2oe4bcgg</code><br/><br/>\n",
              "            "
            ],
            "text/plain": [
              "<IPython.core.display.HTML object>"
            ]
          },
          "metadata": {
            "tags": []
          }
        },
        {
          "output_type": "stream",
          "text": [
            "1/100 * Epoch (train):   3% 6/175 [00:00<00:07, 21.55it/s, loss=0.669, lr=2.000e-05, momentum=0.950]"
          ],
          "name": "stdout"
        },
        {
          "output_type": "stream",
          "text": [
            "/usr/local/lib/python3.6/dist-packages/torch/optim/lr_scheduler.py:136: UserWarning:\n",
            "\n",
            "Detected call of `lr_scheduler.step()` before `optimizer.step()`. In PyTorch 1.1.0 and later, you should call them in the opposite order: `optimizer.step()` before `lr_scheduler.step()`.  Failure to do this will result in PyTorch skipping the first value of the learning rate schedule. See more details at https://pytorch.org/docs/stable/optim.html#how-to-adjust-learning-rate\n",
            "\n",
            "/usr/local/lib/python3.6/dist-packages/torch/optim/lr_scheduler.py:1241: UserWarning:\n",
            "\n",
            "To get the last learning rate computed by the scheduler, please use `get_last_lr()`.\n",
            "\n"
          ],
          "name": "stderr"
        },
        {
          "output_type": "stream",
          "text": [
            "1/100 * Epoch (train): 100% 175/175 [00:03<00:00, 46.69it/s, loss=0.398, lr=2.296e-05, momentum=0.949]\n",
            "1/100 * Epoch (valid): 100% 44/44 [00:00<00:00, 81.58it/s, loss=0.313]\n",
            "[2020-12-12 00:13:24,331] \n",
            "1/100 * Epoch 1 (_base): lr=2.296e-05 | momentum=0.9494\n",
            "1/100 * Epoch 1 (train): auc/class_00=0.5365 | auc/mean=0.5365 | loss=0.4547 | lr=2.099e-05 | momentum=0.9498\n",
            "1/100 * Epoch 1 (valid): auc/class_00=0.6990 | auc/mean=0.6990 | loss=0.4263\n",
            "2/100 * Epoch (train): 100% 175/175 [00:03<00:00, 46.33it/s, loss=0.346, lr=3.175e-05, momentum=0.948]\n",
            "2/100 * Epoch (valid): 100% 44/44 [00:00<00:00, 113.33it/s, loss=0.336]\n",
            "[2020-12-12 00:13:31,038] \n",
            "2/100 * Epoch 2 (_base): lr=3.175e-05 | momentum=0.9476\n",
            "2/100 * Epoch 2 (train): auc/class_00=0.6654 | auc/mean=0.6654 | loss=0.3978 | lr=2.689e-05 | momentum=0.9486\n",
            "2/100 * Epoch 2 (valid): auc/class_00=0.7769 | auc/mean=0.7769 | loss=0.3827\n",
            "3/100 * Epoch (train): 100% 175/175 [00:04<00:00, 41.02it/s, loss=0.262, lr=4.617e-05, momentum=0.945]\n",
            "3/100 * Epoch (valid): 100% 44/44 [00:00<00:00, 111.51it/s, loss=0.321]\n",
            "[2020-12-12 00:13:41,317] \n",
            "3/100 * Epoch 3 (_base): lr=4.617e-05 | momentum=0.9445\n",
            "3/100 * Epoch 3 (train): auc/class_00=0.7985 | auc/mean=0.7985 | loss=0.3750 | lr=3.853e-05 | momentum=0.9461\n",
            "3/100 * Epoch 3 (valid): auc/class_00=0.8355 | auc/mean=0.8355 | loss=0.3613\n",
            "4/100 * Epoch (train): 100% 175/175 [00:03<00:00, 45.89it/s, loss=0.273, lr=6.586e-05, momentum=0.940]\n",
            "4/100 * Epoch (valid): 100% 44/44 [00:00<00:00, 114.25it/s, loss=0.295]\n",
            "[2020-12-12 00:13:48,252] \n",
            "4/100 * Epoch 4 (_base): lr=6.586e-05 | momentum=0.9404\n",
            "4/100 * Epoch 4 (train): auc/class_00=0.8506 | auc/mean=0.8506 | loss=0.3498 | lr=5.563e-05 | momentum=0.9426\n",
            "4/100 * Epoch 4 (valid): auc/class_00=0.8587 | auc/mean=0.8587 | loss=0.3396\n",
            "5/100 * Epoch (train): 100% 175/175 [00:04<00:00, 42.85it/s, loss=0.188, lr=9.033e-05, momentum=0.935]\n",
            "5/100 * Epoch (valid): 100% 44/44 [00:00<00:00, 96.03it/s, loss=0.281]\n",
            "[2020-12-12 00:13:56,696] \n",
            "5/100 * Epoch 5 (_base): lr=9.033e-05 | momentum=0.9353\n",
            "5/100 * Epoch 5 (train): auc/class_00=0.8865 | auc/mean=0.8865 | loss=0.3228 | lr=7.776e-05 | momentum=0.9380\n",
            "5/100 * Epoch 5 (valid): auc/class_00=0.8844 | auc/mean=0.8844 | loss=0.3176\n",
            "6/100 * Epoch (train): 100% 175/175 [00:03<00:00, 47.10it/s, loss=0.341, lr=1.190e-04, momentum=0.929]\n",
            "6/100 * Epoch (valid): 100% 44/44 [00:00<00:00, 112.07it/s, loss=0.256]\n",
            "[2020-12-12 00:14:03,641] \n",
            "6/100 * Epoch 6 (_base): lr=0.0001 | momentum=0.9294\n",
            "6/100 * Epoch 6 (train): auc/class_00=0.8948 | auc/mean=0.8948 | loss=0.3012 | lr=0.0001 | momentum=0.9324\n",
            "6/100 * Epoch 6 (valid): auc/class_00=0.9044 | auc/mean=0.9044 | loss=0.2965\n",
            "7/100 * Epoch (train): 100% 175/175 [00:04<00:00, 40.73it/s, loss=0.126, lr=1.511e-04, momentum=0.923]\n",
            "7/100 * Epoch (valid): 100% 44/44 [00:00<00:00, 106.18it/s, loss=0.227]\n",
            "[2020-12-12 00:14:14,231] \n",
            "7/100 * Epoch 7 (_base): lr=0.0002 | momentum=0.9227\n",
            "7/100 * Epoch 7 (train): auc/class_00=0.9066 | auc/mean=0.9066 | loss=0.2766 | lr=0.0001 | momentum=0.9261\n",
            "7/100 * Epoch 7 (valid): auc/class_00=0.9226 | auc/mean=0.9226 | loss=0.2596\n",
            "8/100 * Epoch (train): 100% 175/175 [00:04<00:00, 43.42it/s, loss=0.512, lr=1.859e-04, momentum=0.915]\n",
            "8/100 * Epoch (valid): 100% 44/44 [00:00<00:00, 89.71it/s, loss=0.268]\n",
            "[2020-12-12 00:14:23,611] \n",
            "8/100 * Epoch 8 (_base): lr=0.0002 | momentum=0.9154\n",
            "8/100 * Epoch 8 (train): auc/class_00=0.9346 | auc/mean=0.9346 | loss=0.2294 | lr=0.0002 | momentum=0.9191\n",
            "8/100 * Epoch 8 (valid): auc/class_00=0.9299 | auc/mean=0.9299 | loss=0.2653\n",
            "9/100 * Epoch (train): 100% 175/175 [00:03<00:00, 45.71it/s, loss=0.502, lr=2.226e-04, momentum=0.908]\n",
            "9/100 * Epoch (valid): 100% 44/44 [00:00<00:00, 113.25it/s, loss=0.151]\n",
            "[2020-12-12 00:14:33,078] \n",
            "9/100 * Epoch 9 (_base): lr=0.0002 | momentum=0.9078\n",
            "9/100 * Epoch 9 (train): auc/class_00=0.9405 | auc/mean=0.9405 | loss=0.2119 | lr=0.0002 | momentum=0.9116\n",
            "9/100 * Epoch 9 (valid): auc/class_00=0.9323 | auc/mean=0.9323 | loss=0.2739\n",
            "10/100 * Epoch (train): 100% 175/175 [00:04<00:00, 40.91it/s, loss=0.171, lr=2.601e-04, momentum=0.900]\n",
            "10/100 * Epoch (valid): 100% 44/44 [00:00<00:00, 92.91it/s, loss=0.139]\n",
            "[2020-12-12 00:14:44,947] \n",
            "10/100 * Epoch 10 (_base): lr=0.0003 | momentum=0.9000\n",
            "10/100 * Epoch 10 (train): auc/class_00=0.9638 | auc/mean=0.9638 | loss=0.1732 | lr=0.0002 | momentum=0.9039\n",
            "10/100 * Epoch 10 (valid): auc/class_00=0.9348 | auc/mean=0.9348 | loss=0.2164\n",
            "11/100 * Epoch (train): 100% 175/175 [00:03<00:00, 44.27it/s, loss=0.043, lr=2.977e-04, momentum=0.892]\n",
            "11/100 * Epoch (valid): 100% 44/44 [00:00<00:00, 93.57it/s, loss=0.279]\n",
            "[2020-12-12 00:14:55,273] \n",
            "11/100 * Epoch 11 (_base): lr=0.0003 | momentum=0.8922\n",
            "11/100 * Epoch 11 (train): auc/class_00=0.9700 | auc/mean=0.9700 | loss=0.1502 | lr=0.0003 | momentum=0.8960\n",
            "11/100 * Epoch 11 (valid): auc/class_00=0.9319 | auc/mean=0.9319 | loss=0.2384\n",
            "12/100 * Epoch (train): 100% 175/175 [00:04<00:00, 41.78it/s, loss=0.006, lr=3.343e-04, momentum=0.885]\n",
            "12/100 * Epoch (valid): 100% 44/44 [00:00<00:00, 111.04it/s, loss=0.189]\n",
            "[2020-12-12 00:15:05,051] \n",
            "12/100 * Epoch 12 (_base): lr=0.0003 | momentum=0.8845\n",
            "12/100 * Epoch 12 (train): auc/class_00=0.9687 | auc/mean=0.9687 | loss=0.1539 | lr=0.0003 | momentum=0.8883\n",
            "12/100 * Epoch 12 (valid): auc/class_00=0.9311 | auc/mean=0.9311 | loss=0.2558\n",
            "13/100 * Epoch (train): 100% 175/175 [00:03<00:00, 46.35it/s, loss=0.073, lr=3.691e-04, momentum=0.877]\n",
            "13/100 * Epoch (valid): 100% 44/44 [00:00<00:00, 109.26it/s, loss=0.095]\n",
            "[2020-12-12 00:15:14,216] \n",
            "13/100 * Epoch 13 (_base): lr=0.0004 | momentum=0.8773\n",
            "13/100 * Epoch 13 (train): auc/class_00=0.9718 | auc/mean=0.9718 | loss=0.1431 | lr=0.0004 | momentum=0.8808\n",
            "13/100 * Epoch 13 (valid): auc/class_00=0.9286 | auc/mean=0.9286 | loss=0.2256\n",
            "14/100 * Epoch (train): 100% 175/175 [00:03<00:00, 46.18it/s, loss=0.212, lr=4.012e-04, momentum=0.871]\n",
            "14/100 * Epoch (valid): 100% 44/44 [00:00<00:00, 106.63it/s, loss=0.160]\n",
            "[2020-12-12 00:15:20,117] \n",
            "14/100 * Epoch 14 (_base): lr=0.0004 | momentum=0.8706\n",
            "14/100 * Epoch 14 (train): auc/class_00=0.9690 | auc/mean=0.9690 | loss=0.1491 | lr=0.0004 | momentum=0.8739\n",
            "14/100 * Epoch 14 (valid): auc/class_00=0.9187 | auc/mean=0.9187 | loss=0.2794\n",
            "15/100 * Epoch (train): 100% 175/175 [00:03<00:00, 45.47it/s, loss=0.273, lr=4.298e-04, momentum=0.865]\n",
            "15/100 * Epoch (valid): 100% 44/44 [00:00<00:00, 108.75it/s, loss=0.138]\n",
            "[2020-12-12 00:15:26,097] \n",
            "15/100 * Epoch 15 (_base): lr=0.0004 | momentum=0.8646\n",
            "15/100 * Epoch 15 (train): auc/class_00=0.9744 | auc/mean=0.9744 | loss=0.1434 | lr=0.0004 | momentum=0.8675\n",
            "15/100 * Epoch 15 (valid): auc/class_00=0.9183 | auc/mean=0.9183 | loss=0.2557\n",
            "16/100 * Epoch (train): 100% 175/175 [00:04<00:00, 42.03it/s, loss=0.071, lr=4.543e-04, momentum=0.860]\n",
            "16/100 * Epoch (valid): 100% 44/44 [00:00<00:00, 89.72it/s, loss=0.114]\n",
            "[2020-12-12 00:15:37,538] \n",
            "16/100 * Epoch 16 (_base): lr=0.0005 | momentum=0.8595\n",
            "16/100 * Epoch 16 (train): auc/class_00=0.9832 | auc/mean=0.9832 | loss=0.1164 | lr=0.0004 | momentum=0.8620\n",
            "16/100 * Epoch 16 (valid): auc/class_00=0.8930 | auc/mean=0.8930 | loss=0.2831\n",
            "17/100 * Epoch (train): 100% 175/175 [00:03<00:00, 45.61it/s, loss=0.013, lr=4.739e-04, momentum=0.855]\n",
            "17/100 * Epoch (valid): 100% 44/44 [00:00<00:00, 108.30it/s, loss=0.036]\n",
            "[2020-12-12 00:15:43,523] \n",
            "17/100 * Epoch 17 (_base): lr=0.0005 | momentum=0.8554\n",
            "17/100 * Epoch 17 (train): auc/class_00=0.9812 | auc/mean=0.9812 | loss=0.1194 | lr=0.0005 | momentum=0.8574\n",
            "17/100 * Epoch 17 (valid): auc/class_00=0.9248 | auc/mean=0.9248 | loss=0.2498\n",
            "18/100 * Epoch (train): 100% 175/175 [00:03<00:00, 45.96it/s, loss=0.064, lr=4.883e-04, momentum=0.852]\n",
            "18/100 * Epoch (valid): 100% 44/44 [00:00<00:00, 108.94it/s, loss=0.033]\n",
            "[2020-12-12 00:15:50,428] \n",
            "18/100 * Epoch 18 (_base): lr=0.0005 | momentum=0.8524\n",
            "18/100 * Epoch 18 (train): auc/class_00=0.9828 | auc/mean=0.9828 | loss=0.1140 | lr=0.0005 | momentum=0.8538\n",
            "18/100 * Epoch 18 (valid): auc/class_00=0.9236 | auc/mean=0.9236 | loss=0.2615\n",
            "19/100 * Epoch (train): 100% 175/175 [00:03<00:00, 44.14it/s, loss=0.203, lr=4.971e-04, momentum=0.851]\n",
            "19/100 * Epoch (valid): 100% 44/44 [00:00<00:00, 89.89it/s, loss=0.153]\n",
            "[2020-12-12 00:15:58,993] \n",
            "19/100 * Epoch 19 (_base): lr=0.0005 | momentum=0.8506\n",
            "19/100 * Epoch 19 (train): auc/class_00=0.9857 | auc/mean=0.9857 | loss=0.1086 | lr=0.0005 | momentum=0.8514\n",
            "19/100 * Epoch 19 (valid): auc/class_00=0.9246 | auc/mean=0.9246 | loss=0.2836\n",
            "20/100 * Epoch (train): 100% 175/175 [00:03<00:00, 45.39it/s, loss=0.198, lr=5.000e-04, momentum=0.850]\n",
            "20/100 * Epoch (valid): 100% 44/44 [00:00<00:00, 108.00it/s, loss=0.031]\n",
            "[2020-12-12 00:16:07,153] \n",
            "20/100 * Epoch 20 (_base): lr=0.0005 | momentum=0.8500\n",
            "20/100 * Epoch 20 (train): auc/class_00=0.9860 | auc/mean=0.9860 | loss=0.1003 | lr=0.0005 | momentum=0.8502\n",
            "20/100 * Epoch 20 (valid): auc/class_00=0.9025 | auc/mean=0.9025 | loss=0.2739\n",
            "Early stop at 20 epoch\n"
          ],
          "name": "stdout"
        },
        {
          "output_type": "display_data",
          "data": {
            "text/html": [
              "<br/>Waiting for W&B process to finish, PID 583<br/>Program ended successfully."
            ],
            "text/plain": [
              "<IPython.core.display.HTML object>"
            ]
          },
          "metadata": {
            "tags": []
          }
        },
        {
          "output_type": "display_data",
          "data": {
            "application/vnd.jupyter.widget-view+json": {
              "model_id": "13e4a70e3a3e4ed2a223a2fba08262c1",
              "version_minor": 0,
              "version_major": 2
            },
            "text/plain": [
              "VBox(children=(Label(value=' 0.01MB of 0.01MB uploaded (0.00MB deduped)\\r'), FloatProgress(value=1.0, max=1.0)…"
            ]
          },
          "metadata": {
            "tags": []
          }
        },
        {
          "output_type": "display_data",
          "data": {
            "text/html": [
              "Find user logs for this run at: <code>drive/MyDrive/logdir_transformer-with-descriptor/wandb/run-20201212_001318-2oe4bcgg/logs/debug.log</code>"
            ],
            "text/plain": [
              "<IPython.core.display.HTML object>"
            ]
          },
          "metadata": {
            "tags": []
          }
        },
        {
          "output_type": "display_data",
          "data": {
            "text/html": [
              "Find internal logs for this run at: <code>drive/MyDrive/logdir_transformer-with-descriptor/wandb/run-20201212_001318-2oe4bcgg/logs/debug-internal.log</code>"
            ],
            "text/plain": [
              "<IPython.core.display.HTML object>"
            ]
          },
          "metadata": {
            "tags": []
          }
        },
        {
          "output_type": "display_data",
          "data": {
            "text/html": [
              "<h3>Run summary:</h3><br/><style>\n",
              "    table.wandb td:nth-child(1) { padding: 0 10px; text-align: right }\n",
              "    </style><table class=\"wandb\">\n",
              "<tr><td>auc/class_00/train</td><td>0.98598</td></tr><tr><td>auc/mean/train</td><td>0.98598</td></tr><tr><td>loss/train</td><td>0.1003</td></tr><tr><td>lr/train</td><td>0.0005</td></tr><tr><td>momentum/train</td><td>0.8502</td></tr><tr><td>auc/class_00/valid</td><td>0.90253</td></tr><tr><td>auc/mean/valid</td><td>0.90253</td></tr><tr><td>loss/valid</td><td>0.2739</td></tr><tr><td>lr/_base</td><td>0.0005</td></tr><tr><td>momentum/_base</td><td>0.85</td></tr><tr><td>_step</td><td>20</td></tr><tr><td>_runtime</td><td>168</td></tr><tr><td>_timestamp</td><td>1607732167</td></tr></table>"
            ],
            "text/plain": [
              "<IPython.core.display.HTML object>"
            ]
          },
          "metadata": {
            "tags": []
          }
        },
        {
          "output_type": "display_data",
          "data": {
            "text/html": [
              "<h3>Run history:</h3><br/><style>\n",
              "    table.wandb td:nth-child(1) { padding: 0 10px; text-align: right }\n",
              "    </style><table class=\"wandb\">\n",
              "<tr><td>auc/class_00/train</td><td>▁▃▅▆▆▇▇▇▇███████████</td></tr><tr><td>auc/mean/train</td><td>▁▃▅▆▆▇▇▇▇███████████</td></tr><tr><td>loss/train</td><td>█▇▆▆▅▅▄▄▃▂▂▂▂▂▂▁▁▁▁▁</td></tr><tr><td>lr/train</td><td>▁▁▁▂▂▂▃▃▄▄▅▅▆▆▇▇▇███</td></tr><tr><td>momentum/train</td><td>███▇▇▇▆▆▅▅▄▄▃▃▂▂▂▁▁▁</td></tr><tr><td>auc/class_00/valid</td><td>▁▃▅▆▇▇█████████▇███▇</td></tr><tr><td>auc/mean/valid</td><td>▁▃▅▆▇▇█████████▇███▇</td></tr><tr><td>loss/valid</td><td>█▇▆▅▄▄▂▃▃▁▂▂▁▃▂▃▂▃▃▃</td></tr><tr><td>lr/_base</td><td>▁▁▁▂▂▂▃▃▄▄▅▆▆▇▇▇████</td></tr><tr><td>momentum/_base</td><td>███▇▇▇▆▆▅▅▄▃▃▂▂▂▁▁▁▁</td></tr><tr><td>_step</td><td>▁▁▂▂▂▃▃▄▄▄▅▅▅▆▆▇▇▇██</td></tr><tr><td>_runtime</td><td>▁▁▂▂▂▃▃▄▄▄▅▅▆▆▆▇▇▇██</td></tr><tr><td>_timestamp</td><td>▁▁▂▂▂▃▃▄▄▄▅▅▆▆▆▇▇▇██</td></tr></table><br/>"
            ],
            "text/plain": [
              "<IPython.core.display.HTML object>"
            ]
          },
          "metadata": {
            "tags": []
          }
        },
        {
          "output_type": "display_data",
          "data": {
            "text/html": [
              "Synced 5 W&B file(s), 1 media file(s), 0 artifact file(s) and 0 other file(s)"
            ],
            "text/plain": [
              "<IPython.core.display.HTML object>"
            ]
          },
          "metadata": {
            "tags": []
          }
        },
        {
          "output_type": "display_data",
          "data": {
            "text/html": [
              "\n",
              "                    <br/>Synced <strong style=\"color:#cdcd00\">transformer-with-descriptor</strong>: <a href=\"https://wandb.ai/dimaorekhov/egfr-project/runs/2oe4bcgg\" target=\"_blank\">https://wandb.ai/dimaorekhov/egfr-project/runs/2oe4bcgg</a><br/>\n",
              "                "
            ],
            "text/plain": [
              "<IPython.core.display.HTML object>"
            ]
          },
          "metadata": {
            "tags": []
          }
        },
        {
          "output_type": "stream",
          "text": [
            "Top best models:\n",
            "drive/MyDrive/logdir_transformer-with-descriptor/checkpoints/train.10.pth\t0.2164\n"
          ],
          "name": "stdout"
        }
      ]
    },
    {
      "cell_type": "code",
      "metadata": {
        "id": "V6Qc8WSTv5mt"
      },
      "source": [
        ""
      ],
      "execution_count": 18,
      "outputs": []
    }
  ]
}