{
 "cells": [
  {
   "cell_type": "code",
   "execution_count": 1,
   "metadata": {},
   "outputs": [],
   "source": [
    "from pathlib import Path\n",
    "import json\n",
    "from transformers import AutoTokenizer, AutoModelForSequenceClassification\n",
    "import pandas as pd\n",
    "from dataclasses import dataclass\n",
    "import torch\n",
    "from torch.utils.data import DataLoader\n",
    "from torch.nn.utils.rnn import pad_sequence\n",
    "from sklearn.model_selection import train_test_split\n",
    "from catalyst import dl\n",
    "from catalyst.utils import set_global_seed\n",
    "\n",
    "\n",
    "ORIGINAL_PAPER_PATH = Path.home() / \"egfr-att\"\n",
    "import sys\n",
    "sys.path.append(ORIGINAL_PAPER_PATH.as_posix())\n",
    "\n",
    "\n",
    "from egfr.dataset import EGFRDataset\n",
    "\n",
    "\n",
    "DEVICE = torch.device('cpu')\n",
    "\n",
    "\n",
    "SEED = 42\n",
    "set_global_seed(SEED)\n",
    "\n",
    "\n",
    "DATA_PATH = ORIGINAL_PAPER_PATH / \"egfr/data/egfr_10_full_ft_pd_lines.json\""
   ]
  },
  {
   "cell_type": "code",
   "execution_count": 2,
   "metadata": {},
   "outputs": [],
   "source": [
    "EXPERIMENT_NAME = 'chemberta-no-descriptor'\n",
    "\n",
    "\n",
    "@dataclass\n",
    "class Config:\n",
    "\n",
    "    use_descriptors: bool = False\n",
    "\n",
    "    pretrained_path: str = \"seyonec/PubChem10M_SMILES_BPE_450k\"\n",
    "    finetune_embeddings: bool = False\n",
    "    n_layers_to_finetune: int = 2\n",
    "\n",
    "    batch_size: int = 4\n",
    "    accumulation_steps: int = 1\n",
    "        \n",
    "    num_epochs: int = 50\n",
    "    patience: int = 5\n",
    "\n",
    "    scheduler: str = 'OneCycleLR'\n",
    "    max_lr: float = 0.001\n",
    "    warmup_prop: float = 0.3\n",
    "\n",
    "    logdir: str = 'checkpoints/'\n",
    "\n",
    "\n",
    "config = Config()"
   ]
  },
  {
   "cell_type": "code",
   "execution_count": 3,
   "metadata": {},
   "outputs": [
    {
     "name": "stderr",
     "output_type": "stream",
     "text": [
      "Some weights of the model checkpoint at seyonec/PubChem10M_SMILES_BPE_450k were not used when initializing RobertaForSequenceClassification: ['lm_head.bias', 'lm_head.dense.weight', 'lm_head.dense.bias', 'lm_head.layer_norm.weight', 'lm_head.layer_norm.bias', 'lm_head.decoder.weight', 'lm_head.decoder.bias', 'roberta.pooler.dense.weight', 'roberta.pooler.dense.bias']\n",
      "- This IS expected if you are initializing RobertaForSequenceClassification from the checkpoint of a model trained on another task or with another architecture (e.g. initializing a BertForSequenceClassification model from a BertForPreTraining model).\n",
      "- This IS NOT expected if you are initializing RobertaForSequenceClassification from the checkpoint of a model that you expect to be exactly identical (initializing a BertForSequenceClassification model from a BertForSequenceClassification model).\n",
      "Some weights of RobertaForSequenceClassification were not initialized from the model checkpoint at seyonec/PubChem10M_SMILES_BPE_450k and are newly initialized: ['classifier.dense.weight', 'classifier.dense.bias', 'classifier.out_proj.weight', 'classifier.out_proj.bias']\n",
      "You should probably TRAIN this model on a down-stream task to be able to use it for predictions and inference.\n"
     ]
    },
    {
     "name": "stdout",
     "output_type": "stream",
     "text": [
      "bos_token: <s> 0\n",
      "eos_token: </s> 2\n",
      "unk_token: <unk> 3\n",
      "sep_token: </s> 2\n",
      "pad_token: <pad> 1\n",
      "cls_token: <s> 0\n",
      "mask_token: <mask> 4\n"
     ]
    }
   ],
   "source": [
    "model = AutoModelForSequenceClassification.from_pretrained(config.pretrained_path)\n",
    "tokenizer = AutoTokenizer.from_pretrained(config.pretrained_path)\n",
    "\n",
    "\n",
    "def get_tokenizer_info(tokenizer):\n",
    "    for key, value in tokenizer.special_tokens_map.items():\n",
    "        print(f\"{key}:\", value, getattr(tokenizer, f\"{key}_id\"))\n",
    "\n",
    "get_tokenizer_info(tokenizer)\n",
    "\n",
    "\n",
    "PAD_TOKEN_ID = tokenizer.pad_token_id"
   ]
  },
  {
   "cell_type": "code",
   "execution_count": 4,
   "metadata": {},
   "outputs": [],
   "source": [
    "def freeze_module(module: torch.nn.Module):\n",
    "    for p in module.parameters():\n",
    "        p.requires_grad = False\n",
    "\n",
    "\n",
    "def freeze_pretrained(model: 'RobertaForSequenceClassification', config: Config):\n",
    "    if not config.finetune_embeddings:\n",
    "        freeze_module(model.roberta.embeddings)\n",
    "\n",
    "    n_layers = len(model.roberta.encoder.layer)\n",
    "    layer_idx_to_stop = n_layers - config.n_layers_to_finetune\n",
    "    for i, layer in enumerate(model.roberta.encoder.layer):\n",
    "        if i == layer_idx_to_stop:\n",
    "            break\n",
    "        freeze_module(layer)\n",
    "\n",
    "\n",
    "freeze_pretrained(model, config)"
   ]
  },
  {
   "cell_type": "code",
   "execution_count": 5,
   "metadata": {},
   "outputs": [],
   "source": [
    "class SequenceEGFRDataset(EGFRDataset):\n",
    "\n",
    "    def __init__(self, data, tokenizer):\n",
    "        super().__init__(data, infer=True)\n",
    "        self.tokenizer = tokenizer\n",
    "        self.pad_token_id = tokenizer.pad_token_id\n",
    "        self.encode_smiles()\n",
    "\n",
    "        self.mord_ft = torch.FloatTensor(self.mord_ft)\n",
    "        self.non_mord_ft = torch.FloatTensor(self.non_mord_ft)\n",
    "        self.label = torch.LongTensor(self.label)\n",
    "\n",
    "    def encode_smiles(self):\n",
    "        self.smiles = [\n",
    "            torch.LongTensor(self.tokenizer.encode(s))\n",
    "            for s in self.smiles\n",
    "        ]\n",
    "\n",
    "    def collate_fn(self, batch):\n",
    "        smiles, mord_ft, non_mord_ft, labels = zip(*batch)\n",
    "        smiles = pad_sequence(\n",
    "            smiles, batch_first=True, padding_value=self.pad_token_id\n",
    "        )\n",
    "        mord_ft = torch.stack(mord_ft)\n",
    "        non_mord_ft = torch.stack(non_mord_ft)\n",
    "        labels = torch.stack(labels)\n",
    "        return smiles, mord_ft, non_mord_ft, labels\n",
    "\n",
    "    def make_loader(self, *args, **kwargs):\n",
    "        return DataLoader(self, *args, collate_fn=self.collate_fn, **kwargs)\n"
   ]
  },
  {
   "cell_type": "code",
   "execution_count": 6,
   "metadata": {},
   "outputs": [],
   "source": [
    "train, valid = train_test_split(\n",
    "    pd.read_json(DATA_PATH, lines=True), test_size=0.2, random_state=42 #  42 hard code is from original paper code \n",
    ")\n",
    "\n",
    "\n",
    "train_dataset = SequenceEGFRDataset(train, tokenizer)\n",
    "valid_dataset = SequenceEGFRDataset(valid, tokenizer)"
   ]
  },
  {
   "cell_type": "code",
   "execution_count": 7,
   "metadata": {},
   "outputs": [
    {
     "name": "stdout",
     "output_type": "stream",
     "text": [
      "Max train smiles length: 100\n",
      "Max valid smiles length: 93\n"
     ]
    }
   ],
   "source": [
    "print('Max train smiles length:', max(len(s) for s in train_dataset.smiles))\n",
    "print('Max valid smiles length:', max(len(s) for s in valid_dataset.smiles))"
   ]
  },
  {
   "cell_type": "code",
   "execution_count": 8,
   "metadata": {},
   "outputs": [],
   "source": [
    "loaders = {\n",
    "    'train': train_dataset.make_loader(batch_size=config.batch_size, shuffle=True),\n",
    "    'valid': valid_dataset.make_loader(batch_size=config.batch_size)\n",
    "}"
   ]
  },
  {
   "cell_type": "code",
   "execution_count": 9,
   "metadata": {},
   "outputs": [],
   "source": [
    "def init_scheduler(\n",
    "    optimizer: torch.optim.Optimizer,\n",
    "    num_steps_per_epoch: int,\n",
    "    config: Config\n",
    "):\n",
    "\n",
    "    if config.scheduler == 'OneCycleLR':\n",
    "        scheduler = torch.optim.lr_scheduler.OneCycleLR(\n",
    "            optimizer,\n",
    "            max_lr=config.max_lr,\n",
    "            epochs=config.num_epochs,\n",
    "            steps_per_epoch=num_steps_per_epoch,\n",
    "            pct_start=config.warmup_prop\n",
    "        )\n",
    "        return scheduler, 'batch'\n",
    "\n",
    "    return None, None\n"
   ]
  },
  {
   "cell_type": "code",
   "execution_count": 10,
   "metadata": {},
   "outputs": [],
   "source": [
    "optimizer = torch.optim.Adam(model.parameters())\n",
    "\n",
    "callbacks = [\n",
    "    dl.OptimizerCallback(accumulation_steps=config.accumulation_steps),\n",
    "    dl.EarlyStoppingCallback(patience=config.patience),\n",
    "    dl.WandbLogger(\n",
    "        project='egfr-project',\n",
    "        entity='dimaorekhov',\n",
    "        group='chemberta-no-descriptor',\n",
    "        name=EXPERIMENT_NAME,\n",
    "        config=config.__dict__\n",
    "    ),\n",
    "    dl.AUCCallback()\n",
    "]\n",
    "\n",
    "scheduler, mode = init_scheduler(optimizer, len(loaders['train']), config)\n",
    "if scheduler is not None:\n",
    "    callbacks.append(dl.SchedulerCallback(mode=mode))"
   ]
  },
  {
   "cell_type": "code",
   "execution_count": 11,
   "metadata": {},
   "outputs": [],
   "source": [
    "class EgfrNoDescriptorRunner(dl.Runner):\n",
    "\n",
    "    def _handle_batch(self, batch):\n",
    "        smiles, _, _, labels = batch\n",
    "        out = self.model(input_ids=smiles, labels=labels)\n",
    "        self.batch_metrics['loss'] = out.loss\n",
    "        self.input = {'targets': labels}\n",
    "        self.output = {'logits': out.logits}\n"
   ]
  },
  {
   "cell_type": "code",
   "execution_count": 12,
   "metadata": {},
   "outputs": [],
   "source": [
    "# be careful not to override log dir\n",
    "Path(config.logdir).mkdir(exist_ok=True)"
   ]
  },
  {
   "cell_type": "code",
   "execution_count": 13,
   "metadata": {},
   "outputs": [
    {
     "name": "stderr",
     "output_type": "stream",
     "text": [
      "\u001b[34m\u001b[1mwandb\u001b[0m: Currently logged in as: \u001b[33mdimaorekhov\u001b[0m (use `wandb login --relogin` to force relogin)\n",
      "\u001b[34m\u001b[1mwandb\u001b[0m: wandb version 0.10.12 is available!  To upgrade, please run:\n",
      "\u001b[34m\u001b[1mwandb\u001b[0m:  $ pip install wandb --upgrade\n"
     ]
    },
    {
     "data": {
      "text/html": [
       "\n",
       "                Tracking run with wandb version 0.10.11<br/>\n",
       "                Syncing run <strong style=\"color:#cdcd00\">chemberta-no-descriptor</strong> to <a href=\"https://wandb.ai\" target=\"_blank\">Weights & Biases</a> <a href=\"https://docs.wandb.com/integrations/jupyter.html\" target=\"_blank\">(Documentation)</a>.<br/>\n",
       "                Project page: <a href=\"https://wandb.ai/dimaorekhov/egfr-project\" target=\"_blank\">https://wandb.ai/dimaorekhov/egfr-project</a><br/>\n",
       "                Run page: <a href=\"https://wandb.ai/dimaorekhov/egfr-project/runs/2s3qzi68\" target=\"_blank\">https://wandb.ai/dimaorekhov/egfr-project/runs/2s3qzi68</a><br/>\n",
       "                Run data is saved locally in <code>checkpoints/wandb/run-20201211_224140-2s3qzi68</code><br/><br/>\n",
       "            "
      ],
      "text/plain": [
       "<IPython.core.display.HTML object>"
      ]
     },
     "metadata": {},
     "output_type": "display_data"
    },
    {
     "name": "stdout",
     "output_type": "stream",
     "text": [
      "1/50 * Epoch (train):   0% 2/699 [00:00<02:33,  4.54it/s, loss=0.618, lr=4.000e-05, momentum=0.950]"
     ]
    },
    {
     "name": "stderr",
     "output_type": "stream",
     "text": [
      "/Users/Dmitrii.Orekhov/anaconda3/envs/ml/lib/python3.8/site-packages/torch/optim/lr_scheduler.py:1205: UserWarning:\n",
      "\n",
      "To get the last learning rate computed by the scheduler, please use `get_last_lr()`.\n",
      "\n"
     ]
    },
    {
     "name": "stdout",
     "output_type": "stream",
     "text": [
      "1/50 * Epoch (train):   1% 4/699 [00:00<02:05,  5.53it/s, loss=0.459, lr=4.000e-05, momentum=0.950]\n",
      "1/50 * Epoch (valid):   2% 4/175 [00:00<00:11, 14.46it/s, loss=0.645]\n",
      "[2020-12-11 22:41:42,130] \n",
      "1/50 * Epoch 1 (_base): lr=4.000e-05 | momentum=0.9500\n",
      "1/50 * Epoch 1 (train): auc/class_00=0.4643 | auc/class_01=0.3929 | auc/mean=0.4286 | loss=0.5796 | lr=4.000e-05 | momentum=0.9500\n",
      "1/50 * Epoch 1 (valid): auc/class_00=0.5333 | auc/class_01=0.2667 | auc/mean=0.4000 | loss=0.2813\n",
      "2/50 * Epoch (train):   1% 4/699 [00:00<01:49,  6.35it/s, loss=0.089, lr=4.000e-05, momentum=0.950]\n",
      "2/50 * Epoch (valid):   2% 4/175 [00:00<00:11, 15.01it/s, loss=0.812]\n",
      "[2020-12-11 22:41:44,165] \n",
      "2/50 * Epoch 2 (_base): lr=4.000e-05 | momentum=0.9500\n",
      "2/50 * Epoch 2 (train): auc/class_00=0.000e+00 | auc/class_01=0.1333 | auc/mean=0.0667 | loss=0.3057 | lr=4.000e-05 | momentum=0.9500\n",
      "2/50 * Epoch 2 (valid): auc/class_00=0.4667 | auc/class_01=0.2000 | auc/mean=0.3333 | loss=0.2489\n"
     ]
    },
    {
     "data": {
      "text/html": [
       "<br/>Waiting for W&B process to finish, PID 2225<br/>Program ended successfully."
      ],
      "text/plain": [
       "<IPython.core.display.HTML object>"
      ]
     },
     "metadata": {},
     "output_type": "display_data"
    },
    {
     "data": {
      "application/vnd.jupyter.widget-view+json": {
       "model_id": "1c21204c819544a3981baae7545c3623",
       "version_major": 2,
       "version_minor": 0
      },
      "text/plain": [
       "VBox(children=(Label(value=' 0.01MB of 0.01MB uploaded (0.00MB deduped)\\r'), FloatProgress(value=1.0, max=1.0)…"
      ]
     },
     "metadata": {},
     "output_type": "display_data"
    },
    {
     "data": {
      "text/html": [
       "Find user logs for this run at: <code>checkpoints/wandb/run-20201211_224140-2s3qzi68/logs/debug.log</code>"
      ],
      "text/plain": [
       "<IPython.core.display.HTML object>"
      ]
     },
     "metadata": {},
     "output_type": "display_data"
    },
    {
     "data": {
      "text/html": [
       "Find internal logs for this run at: <code>checkpoints/wandb/run-20201211_224140-2s3qzi68/logs/debug-internal.log</code>"
      ],
      "text/plain": [
       "<IPython.core.display.HTML object>"
      ]
     },
     "metadata": {},
     "output_type": "display_data"
    },
    {
     "data": {
      "text/html": [
       "<h3>Run summary:</h3><br/><style>\n",
       "    table.wandb td:nth-child(1) { padding: 0 10px; text-align: right }\n",
       "    </style><table class=\"wandb\">\n",
       "<tr><td>auc/class_00/train</td><td>0.0</td></tr><tr><td>auc/class_01/train</td><td>0.13333</td></tr><tr><td>auc/mean/train</td><td>0.06667</td></tr><tr><td>loss/train</td><td>0.30573</td></tr><tr><td>lr/train</td><td>4e-05</td></tr><tr><td>momentum/train</td><td>0.95</td></tr><tr><td>auc/class_00/valid</td><td>0.46667</td></tr><tr><td>auc/class_01/valid</td><td>0.2</td></tr><tr><td>auc/mean/valid</td><td>0.33333</td></tr><tr><td>loss/valid</td><td>0.24894</td></tr><tr><td>lr/_base</td><td>4e-05</td></tr><tr><td>momentum/_base</td><td>0.95</td></tr><tr><td>_step</td><td>2</td></tr><tr><td>_runtime</td><td>4</td></tr><tr><td>_timestamp</td><td>1607715704</td></tr></table>"
      ],
      "text/plain": [
       "<IPython.core.display.HTML object>"
      ]
     },
     "metadata": {},
     "output_type": "display_data"
    },
    {
     "data": {
      "text/html": [
       "<h3>Run history:</h3><br/><style>\n",
       "    table.wandb td:nth-child(1) { padding: 0 10px; text-align: right }\n",
       "    </style><table class=\"wandb\">\n",
       "<tr><td>auc/class_00/train</td><td>█▁</td></tr><tr><td>auc/class_01/train</td><td>█▁</td></tr><tr><td>auc/mean/train</td><td>█▁</td></tr><tr><td>loss/train</td><td>█▁</td></tr><tr><td>lr/train</td><td>▁█</td></tr><tr><td>momentum/train</td><td>█▁</td></tr><tr><td>auc/class_00/valid</td><td>█▁</td></tr><tr><td>auc/class_01/valid</td><td>█▁</td></tr><tr><td>auc/mean/valid</td><td>█▁</td></tr><tr><td>loss/valid</td><td>█▁</td></tr><tr><td>lr/_base</td><td>▁█</td></tr><tr><td>momentum/_base</td><td>█▁</td></tr><tr><td>_step</td><td>▁█</td></tr><tr><td>_runtime</td><td>▁█</td></tr><tr><td>_timestamp</td><td>▁█</td></tr></table><br/>"
      ],
      "text/plain": [
       "<IPython.core.display.HTML object>"
      ]
     },
     "metadata": {},
     "output_type": "display_data"
    },
    {
     "data": {
      "text/html": [
       "Synced 5 W&B file(s), 1 media file(s), 0 artifact file(s) and 0 other file(s)"
      ],
      "text/plain": [
       "<IPython.core.display.HTML object>"
      ]
     },
     "metadata": {},
     "output_type": "display_data"
    },
    {
     "data": {
      "text/html": [
       "\n",
       "                    <br/>Synced <strong style=\"color:#cdcd00\">chemberta-no-descriptor</strong>: <a href=\"https://wandb.ai/dimaorekhov/egfr-project/runs/2s3qzi68\" target=\"_blank\">https://wandb.ai/dimaorekhov/egfr-project/runs/2s3qzi68</a><br/>\n",
       "                "
      ],
      "text/plain": [
       "<IPython.core.display.HTML object>"
      ]
     },
     "metadata": {},
     "output_type": "display_data"
    },
    {
     "name": "stdout",
     "output_type": "stream",
     "text": [
      "Top best models:\n",
      "checkpoints/checkpoints/train.2.pth\t0.2489\n"
     ]
    }
   ],
   "source": [
    "runner = EgfrNoDescriptorRunner(device=DEVICE)\n",
    "runner.train(\n",
    "    model=model, \n",
    "    loaders=loaders,\n",
    "    optimizer=optimizer,\n",
    "    scheduler=scheduler,        \n",
    "    num_epochs=config.num_epochs,\n",
    "    verbose=True,\n",
    "    logdir=config.logdir,\n",
    "    callbacks=callbacks,\n",
    "    check=True\n",
    ")"
   ]
  }
 ],
 "metadata": {
  "kernelspec": {
   "display_name": "Python 3",
   "language": "python",
   "name": "python3"
  },
  "language_info": {
   "codemirror_mode": {
    "name": "ipython",
    "version": 3
   },
   "file_extension": ".py",
   "mimetype": "text/x-python",
   "name": "python",
   "nbconvert_exporter": "python",
   "pygments_lexer": "ipython3",
   "version": "3.8.5"
  }
 },
 "nbformat": 4,
 "nbformat_minor": 4
}
